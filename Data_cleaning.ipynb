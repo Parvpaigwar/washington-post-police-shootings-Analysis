{
 "cells": [
  {
   "cell_type": "code",
   "execution_count": 1,
   "metadata": {},
   "outputs": [],
   "source": [
    "import pandas as pd\n",
    "import numpy as np\n",
    "import matplotlib.pyplot as plt\n",
    "import seaborn as sns"
   ]
  },
  {
   "cell_type": "code",
   "execution_count": 2,
   "metadata": {},
   "outputs": [
    {
     "data": {
      "text/plain": [
       "(9893, 12)"
      ]
     },
     "execution_count": 2,
     "metadata": {},
     "output_type": "execute_result"
    }
   ],
   "source": [
    "df = pd.read_csv('2024-07-23-washington-post-police-shootings-export.csv')\n",
    "df.shape"
   ]
  },
  {
   "cell_type": "code",
   "execution_count": 3,
   "metadata": {},
   "outputs": [
    {
     "data": {
      "text/plain": [
       "array(['date', 'name', 'age', 'gender', 'armed', 'race', 'city', 'state',\n",
       "       'flee', 'body_camera', 'signs_of_mental_illness',\n",
       "       'police_departments_involved'], dtype=object)"
      ]
     },
     "execution_count": 3,
     "metadata": {},
     "output_type": "execute_result"
    }
   ],
   "source": [
    "df.columns.values"
   ]
  },
  {
   "cell_type": "code",
   "execution_count": 4,
   "metadata": {},
   "outputs": [
    {
     "data": {
      "text/plain": [
       "date                            object\n",
       "name                            object\n",
       "age                            float64\n",
       "gender                          object\n",
       "armed                           object\n",
       "race                            object\n",
       "city                            object\n",
       "state                           object\n",
       "flee                            object\n",
       "body_camera                       bool\n",
       "signs_of_mental_illness           bool\n",
       "police_departments_involved     object\n",
       "dtype: object"
      ]
     },
     "execution_count": 4,
     "metadata": {},
     "output_type": "execute_result"
    }
   ],
   "source": [
    "df.dtypes\n"
   ]
  },
  {
   "cell_type": "code",
   "execution_count": 5,
   "metadata": {},
   "outputs": [
    {
     "data": {
      "text/plain": [
       "((8903, 12), (990, 12))"
      ]
     },
     "execution_count": 5,
     "metadata": {},
     "output_type": "execute_result"
    }
   ],
   "source": [
    "## Always remember there way always be a chance of data leakage so we need to split the data first and then apply feature\n",
    "## Engineering\n",
    "from sklearn.model_selection import train_test_split\n",
    "X_train,X_test,y_train,y_test=train_test_split(df,df['armed'],test_size=0.1,random_state=0)\n",
    "# this is nothing but splite formula \n",
    "\n",
    "X_train.shape, X_test.shape"
   ]
  },
  {
   "cell_type": "code",
   "execution_count": 6,
   "metadata": {},
   "outputs": [
    {
     "data": {
      "text/html": [
       "<div>\n",
       "<style scoped>\n",
       "    .dataframe tbody tr th:only-of-type {\n",
       "        vertical-align: middle;\n",
       "    }\n",
       "\n",
       "    .dataframe tbody tr th {\n",
       "        vertical-align: top;\n",
       "    }\n",
       "\n",
       "    .dataframe thead th {\n",
       "        text-align: right;\n",
       "    }\n",
       "</style>\n",
       "<table border=\"1\" class=\"dataframe\">\n",
       "  <thead>\n",
       "    <tr style=\"text-align: right;\">\n",
       "      <th></th>\n",
       "      <th>date</th>\n",
       "      <th>name</th>\n",
       "      <th>age</th>\n",
       "      <th>gender</th>\n",
       "      <th>armed</th>\n",
       "      <th>race</th>\n",
       "      <th>city</th>\n",
       "      <th>state</th>\n",
       "      <th>flee</th>\n",
       "      <th>body_camera</th>\n",
       "      <th>signs_of_mental_illness</th>\n",
       "      <th>police_departments_involved</th>\n",
       "    </tr>\n",
       "  </thead>\n",
       "  <tbody>\n",
       "    <tr>\n",
       "      <th>0</th>\n",
       "      <td>2015-01-02</td>\n",
       "      <td>Lewis Lee Lembke</td>\n",
       "      <td>47.0</td>\n",
       "      <td>male</td>\n",
       "      <td>gun</td>\n",
       "      <td>White</td>\n",
       "      <td>Aloha</td>\n",
       "      <td>OR</td>\n",
       "      <td>not</td>\n",
       "      <td>False</td>\n",
       "      <td>False</td>\n",
       "      <td>Washington County Sheriff's Office, OR</td>\n",
       "    </tr>\n",
       "    <tr>\n",
       "      <th>1</th>\n",
       "      <td>2015-01-02</td>\n",
       "      <td>Tim Elliot</td>\n",
       "      <td>53.0</td>\n",
       "      <td>male</td>\n",
       "      <td>gun</td>\n",
       "      <td>Asian</td>\n",
       "      <td>Shelton</td>\n",
       "      <td>WA</td>\n",
       "      <td>not</td>\n",
       "      <td>False</td>\n",
       "      <td>True</td>\n",
       "      <td>Mason County Sheriff's Office, WA</td>\n",
       "    </tr>\n",
       "    <tr>\n",
       "      <th>2</th>\n",
       "      <td>2015-01-03</td>\n",
       "      <td>John Paul Quintero</td>\n",
       "      <td>23.0</td>\n",
       "      <td>male</td>\n",
       "      <td>unarmed</td>\n",
       "      <td>Hispanic</td>\n",
       "      <td>Wichita</td>\n",
       "      <td>KS</td>\n",
       "      <td>not</td>\n",
       "      <td>False</td>\n",
       "      <td>False</td>\n",
       "      <td>Wichita Police Department, KS</td>\n",
       "    </tr>\n",
       "    <tr>\n",
       "      <th>3</th>\n",
       "      <td>2015-01-04</td>\n",
       "      <td>Kenneth Joe Brown</td>\n",
       "      <td>18.0</td>\n",
       "      <td>male</td>\n",
       "      <td>gun</td>\n",
       "      <td>White</td>\n",
       "      <td>Guthrie</td>\n",
       "      <td>OK</td>\n",
       "      <td>not</td>\n",
       "      <td>False</td>\n",
       "      <td>False</td>\n",
       "      <td>Oklahoma Highway Patrol, OK</td>\n",
       "    </tr>\n",
       "    <tr>\n",
       "      <th>4</th>\n",
       "      <td>2015-01-04</td>\n",
       "      <td>Michael Rodriguez</td>\n",
       "      <td>39.0</td>\n",
       "      <td>male</td>\n",
       "      <td>other</td>\n",
       "      <td>Hispanic</td>\n",
       "      <td>Evans</td>\n",
       "      <td>CO</td>\n",
       "      <td>not</td>\n",
       "      <td>False</td>\n",
       "      <td>False</td>\n",
       "      <td>Evans Police Department, CO</td>\n",
       "    </tr>\n",
       "    <tr>\n",
       "      <th>...</th>\n",
       "      <td>...</td>\n",
       "      <td>...</td>\n",
       "      <td>...</td>\n",
       "      <td>...</td>\n",
       "      <td>...</td>\n",
       "      <td>...</td>\n",
       "      <td>...</td>\n",
       "      <td>...</td>\n",
       "      <td>...</td>\n",
       "      <td>...</td>\n",
       "      <td>...</td>\n",
       "      <td>...</td>\n",
       "    </tr>\n",
       "    <tr>\n",
       "      <th>9888</th>\n",
       "      <td>2024-07-13</td>\n",
       "      <td>Daniel Scott McGoldrick</td>\n",
       "      <td>35.0</td>\n",
       "      <td>male</td>\n",
       "      <td>gun</td>\n",
       "      <td>Unknown</td>\n",
       "      <td>Easley</td>\n",
       "      <td>SC</td>\n",
       "      <td>not</td>\n",
       "      <td>False</td>\n",
       "      <td>False</td>\n",
       "      <td>Easley Police Department, SC</td>\n",
       "    </tr>\n",
       "    <tr>\n",
       "      <th>9889</th>\n",
       "      <td>2024-07-15</td>\n",
       "      <td>NaN</td>\n",
       "      <td>NaN</td>\n",
       "      <td>male</td>\n",
       "      <td>undetermined</td>\n",
       "      <td>Unknown</td>\n",
       "      <td>Graham</td>\n",
       "      <td>WA</td>\n",
       "      <td>other</td>\n",
       "      <td>False</td>\n",
       "      <td>False</td>\n",
       "      <td>Pierce County Sheriff's Department, WA</td>\n",
       "    </tr>\n",
       "    <tr>\n",
       "      <th>9890</th>\n",
       "      <td>2024-07-15</td>\n",
       "      <td>Steven Kissack</td>\n",
       "      <td>35.0</td>\n",
       "      <td>male</td>\n",
       "      <td>knife</td>\n",
       "      <td>White</td>\n",
       "      <td>Juneau</td>\n",
       "      <td>AK</td>\n",
       "      <td>foot</td>\n",
       "      <td>False</td>\n",
       "      <td>False</td>\n",
       "      <td>Alaska Wildlife Troopers, AK;Juneau Police Dep...</td>\n",
       "    </tr>\n",
       "    <tr>\n",
       "      <th>9891</th>\n",
       "      <td>2024-07-15</td>\n",
       "      <td>Charles Patrick Carroll</td>\n",
       "      <td>68.0</td>\n",
       "      <td>male</td>\n",
       "      <td>replica</td>\n",
       "      <td>White</td>\n",
       "      <td>Beaumont</td>\n",
       "      <td>TX</td>\n",
       "      <td>not</td>\n",
       "      <td>False</td>\n",
       "      <td>True</td>\n",
       "      <td>Beaumont Police Department, TX</td>\n",
       "    </tr>\n",
       "    <tr>\n",
       "      <th>9892</th>\n",
       "      <td>2024-07-15</td>\n",
       "      <td>Michael Guy</td>\n",
       "      <td>39.0</td>\n",
       "      <td>male</td>\n",
       "      <td>undetermined</td>\n",
       "      <td>Black</td>\n",
       "      <td>Marion</td>\n",
       "      <td>IN</td>\n",
       "      <td>NaN</td>\n",
       "      <td>True</td>\n",
       "      <td>False</td>\n",
       "      <td>Marion Police, IN</td>\n",
       "    </tr>\n",
       "  </tbody>\n",
       "</table>\n",
       "<p>9893 rows × 12 columns</p>\n",
       "</div>"
      ],
      "text/plain": [
       "            date                     name   age gender         armed  \\\n",
       "0     2015-01-02         Lewis Lee Lembke  47.0   male           gun   \n",
       "1     2015-01-02               Tim Elliot  53.0   male           gun   \n",
       "2     2015-01-03       John Paul Quintero  23.0   male       unarmed   \n",
       "3     2015-01-04        Kenneth Joe Brown  18.0   male           gun   \n",
       "4     2015-01-04        Michael Rodriguez  39.0   male         other   \n",
       "...          ...                      ...   ...    ...           ...   \n",
       "9888  2024-07-13  Daniel Scott McGoldrick  35.0   male           gun   \n",
       "9889  2024-07-15                      NaN   NaN   male  undetermined   \n",
       "9890  2024-07-15           Steven Kissack  35.0   male         knife   \n",
       "9891  2024-07-15  Charles Patrick Carroll  68.0   male       replica   \n",
       "9892  2024-07-15              Michael Guy  39.0   male  undetermined   \n",
       "\n",
       "          race      city state   flee  body_camera  signs_of_mental_illness  \\\n",
       "0        White     Aloha    OR    not        False                    False   \n",
       "1        Asian   Shelton    WA    not        False                     True   \n",
       "2     Hispanic   Wichita    KS    not        False                    False   \n",
       "3        White   Guthrie    OK    not        False                    False   \n",
       "4     Hispanic     Evans    CO    not        False                    False   \n",
       "...        ...       ...   ...    ...          ...                      ...   \n",
       "9888   Unknown    Easley    SC    not        False                    False   \n",
       "9889   Unknown    Graham    WA  other        False                    False   \n",
       "9890     White    Juneau    AK   foot        False                    False   \n",
       "9891     White  Beaumont    TX    not        False                     True   \n",
       "9892     Black    Marion    IN    NaN         True                    False   \n",
       "\n",
       "                            police_departments_involved  \n",
       "0                Washington County Sheriff's Office, OR  \n",
       "1                     Mason County Sheriff's Office, WA  \n",
       "2                         Wichita Police Department, KS  \n",
       "3                           Oklahoma Highway Patrol, OK  \n",
       "4                           Evans Police Department, CO  \n",
       "...                                                 ...  \n",
       "9888                       Easley Police Department, SC  \n",
       "9889             Pierce County Sheriff's Department, WA  \n",
       "9890  Alaska Wildlife Troopers, AK;Juneau Police Dep...  \n",
       "9891                     Beaumont Police Department, TX  \n",
       "9892                                  Marion Police, IN  \n",
       "\n",
       "[9893 rows x 12 columns]"
      ]
     },
     "execution_count": 6,
     "metadata": {},
     "output_type": "execute_result"
    }
   ],
   "source": [
    "data = df.copy()\n",
    "data"
   ]
  },
  {
   "cell_type": "code",
   "execution_count": 7,
   "metadata": {},
   "outputs": [
    {
     "data": {
      "text/plain": [
       "['age']"
      ]
     },
     "execution_count": 7,
     "metadata": {},
     "output_type": "execute_result"
    }
   ],
   "source": [
    "# firstlt calculates nan value for numerical\n",
    "numerical_nan = [feature for feature in data.columns if data[feature].isnull().sum()>0 and data[feature].dtype!='O']\n",
    "numerical_nan"
   ]
  },
  {
   "cell_type": "code",
   "execution_count": 8,
   "metadata": {},
   "outputs": [
    {
     "name": "stdout",
     "output_type": "stream",
     "text": [
      "3.8819%\n"
     ]
    }
   ],
   "source": [
    "percentage = np.round(data[numerical_nan].isnull().sum() / 9892 * 100, 4)\n",
    "print(f\"{percentage.values[0]}%\")"
   ]
  },
  {
   "cell_type": "code",
   "execution_count": 9,
   "metadata": {},
   "outputs": [
    {
     "data": {
      "text/html": [
       "<div>\n",
       "<style scoped>\n",
       "    .dataframe tbody tr th:only-of-type {\n",
       "        vertical-align: middle;\n",
       "    }\n",
       "\n",
       "    .dataframe tbody tr th {\n",
       "        vertical-align: top;\n",
       "    }\n",
       "\n",
       "    .dataframe thead th {\n",
       "        text-align: right;\n",
       "    }\n",
       "</style>\n",
       "<table border=\"1\" class=\"dataframe\">\n",
       "  <thead>\n",
       "    <tr style=\"text-align: right;\">\n",
       "      <th></th>\n",
       "      <th>age</th>\n",
       "    </tr>\n",
       "  </thead>\n",
       "  <tbody>\n",
       "    <tr>\n",
       "      <th>count</th>\n",
       "      <td>9509.000000</td>\n",
       "    </tr>\n",
       "    <tr>\n",
       "      <th>mean</th>\n",
       "      <td>37.409507</td>\n",
       "    </tr>\n",
       "    <tr>\n",
       "      <th>std</th>\n",
       "      <td>12.932616</td>\n",
       "    </tr>\n",
       "    <tr>\n",
       "      <th>min</th>\n",
       "      <td>2.000000</td>\n",
       "    </tr>\n",
       "    <tr>\n",
       "      <th>25%</th>\n",
       "      <td>28.000000</td>\n",
       "    </tr>\n",
       "    <tr>\n",
       "      <th>50%</th>\n",
       "      <td>35.000000</td>\n",
       "    </tr>\n",
       "    <tr>\n",
       "      <th>75%</th>\n",
       "      <td>45.000000</td>\n",
       "    </tr>\n",
       "    <tr>\n",
       "      <th>max</th>\n",
       "      <td>92.000000</td>\n",
       "    </tr>\n",
       "  </tbody>\n",
       "</table>\n",
       "</div>"
      ],
      "text/plain": [
       "               age\n",
       "count  9509.000000\n",
       "mean     37.409507\n",
       "std      12.932616\n",
       "min       2.000000\n",
       "25%      28.000000\n",
       "50%      35.000000\n",
       "75%      45.000000\n",
       "max      92.000000"
      ]
     },
     "execution_count": 9,
     "metadata": {},
     "output_type": "execute_result"
    }
   ],
   "source": [
    "data.describe()\n"
   ]
  },
  {
   "cell_type": "markdown",
   "metadata": {},
   "source": [
    "1). 75 percentile (3/4) peoples are killed by police less then 45 year old \n",
    "\n",
    "2). There are No such big numbers of outliers beacuse mean and median is more likely to same\n",
    "\n",
    "3). peoples are killed between the age of 30-45 more"
   ]
  },
  {
   "cell_type": "code",
   "execution_count": 10,
   "metadata": {},
   "outputs": [
    {
     "name": "stdout",
     "output_type": "stream",
     "text": [
      "<class 'pandas.core.frame.DataFrame'>\n",
      "RangeIndex: 9893 entries, 0 to 9892\n",
      "Data columns (total 12 columns):\n",
      " #   Column                       Non-Null Count  Dtype  \n",
      "---  ------                       --------------  -----  \n",
      " 0   date                         9893 non-null   object \n",
      " 1   name                         9556 non-null   object \n",
      " 2   age                          9893 non-null   float64\n",
      " 3   gender                       9865 non-null   object \n",
      " 4   armed                        9682 non-null   object \n",
      " 5   race                         9893 non-null   object \n",
      " 6   city                         9821 non-null   object \n",
      " 7   state                        9893 non-null   object \n",
      " 8   flee                         8548 non-null   object \n",
      " 9   body_camera                  9893 non-null   bool   \n",
      " 10  signs_of_mental_illness      9893 non-null   bool   \n",
      " 11  police_departments_involved  9892 non-null   object \n",
      "dtypes: bool(2), float64(1), object(9)\n",
      "memory usage: 792.3+ KB\n"
     ]
    }
   ],
   "source": [
    "# Handling the missing values\n",
    "for feature in numerical_nan:\n",
    "    data[feature] = data[feature].fillna(data[feature].mean())\n",
    "data.info()"
   ]
  },
  {
   "cell_type": "code",
   "execution_count": 11,
   "metadata": {},
   "outputs": [
    {
     "data": {
      "image/png": "[encoded data removed]",
      "text/plain": [
       "<Figure size 1600x500 with 1 Axes>"
      ]
     },
     "metadata": {},
     "output_type": "display_data"
    },
    {
     "name": "stdout",
     "output_type": "stream",
     "text": [
      "name has 3.4068% Missing values\n",
      "gender has 0.2831% Missing values\n",
      "armed has 2.133% Missing values\n",
      "city has 0.7279% Missing values\n",
      "flee has 13.5968% Missing values\n",
      "police_departments_involved has 0.0101% Missing values\n"
     ]
    }
   ],
   "source": [
    "missing = pd.DataFrame((data.isnull().sum())*100/data.shape[0]).reset_index()\n",
    "plt.figure(figsize=(16,5))\n",
    "ax = sns.pointplot(x='index',y=0,data=missing)\n",
    "plt.xticks(rotation =90,fontsize =7)\n",
    "plt.title(\"Percentage of Missing values\")\n",
    "plt.ylabel(\"PERCENTAGE\")\n",
    "plt.show()\n",
    "cat_nan_features = [feature for feature in data.columns if data[feature].isnull().sum()>0 and data[feature].dtype=='O']\n",
    "for feature in cat_nan_features:\n",
    "    print(f\"{feature} has {np.round(data[feature].isnull().sum()/9892*100,4)}% Missing values\")"
   ]
  },
  {
   "cell_type": "code",
   "execution_count": 12,
   "metadata": {},
   "outputs": [
    {
     "data": {
      "text/plain": [
       "['name', 'gender', 'armed', 'city', 'flee', 'police_departments_involved']"
      ]
     },
     "execution_count": 12,
     "metadata": {},
     "output_type": "execute_result"
    }
   ],
   "source": [
    "categorical_nan = [feature for feature in df.columns if df[feature].isnull().sum()>0 and df[feature].dtype=='O']\n",
    "categorical_nan"
   ]
  },
  {
   "cell_type": "markdown",
   "metadata": {},
   "source": [
    "4). There are huge Misssing/Nan values in Flee (The peoples who wants to run) that is 13.5% percentages missing values"
   ]
  },
  {
   "cell_type": "code",
   "execution_count": 13,
   "metadata": {},
   "outputs": [
    {
     "data": {
      "text/plain": [
       "array(['gun', 'unarmed', 'other', 'replica', 'knife', 'blunt_object', nan,\n",
       "       'vehicle', 'undetermined', 'other,gun', 'unknown',\n",
       "       'blunt_object,blunt_object', 'gun,knife', 'knife,blunt_object',\n",
       "       'vehicle,gun', 'gun,vehicle', 'replica,vehicle',\n",
       "       'blunt_object,knife', 'knife,vehicle', 'vehicle,knife,other',\n",
       "       'knife,knife', 'replica,knife', 'other,blunt_object,knife',\n",
       "       'other,knife', 'vehicle,knife', 'gun,other', 'blunt_object,other'],\n",
       "      dtype=object)"
      ]
     },
     "execution_count": 13,
     "metadata": {},
     "output_type": "execute_result"
    }
   ],
   "source": [
    "df_copy = data.copy()\n",
    "df_copy['armed'].unique()\n"
   ]
  },
  {
   "cell_type": "code",
   "execution_count": 14,
   "metadata": {},
   "outputs": [
    {
     "data": {
      "text/plain": [
       "211"
      ]
     },
     "execution_count": 14,
     "metadata": {},
     "output_type": "execute_result"
    }
   ],
   "source": [
    "# Fill missing values in 'armed' with the mode of the column\n",
    "df_copy['armed'] = df_copy['armed'].fillna(df_copy.armed.mode())\n",
    "\n",
    "# Check if there are any missing values left\n",
    "df_copy['armed'].isnull().sum()"
   ]
  },
  {
   "cell_type": "code",
   "execution_count": 15,
   "metadata": {},
   "outputs": [],
   "source": [
    "df_copy['flee'] = df_copy['flee'].fillna(df_copy.flee.mode())\n"
   ]
  },
  {
   "cell_type": "code",
   "execution_count": 16,
   "metadata": {},
   "outputs": [
    {
     "data": {
      "image/png": "[encoded data removed]",
      "text/plain": [
       "<Figure size 1600x500 with 1 Axes>"
      ]
     },
     "metadata": {},
     "output_type": "display_data"
    },
    {
     "name": "stdout",
     "output_type": "stream",
     "text": [
      "name has 3.4068% Missing values\n",
      "gender has 0.2831% Missing values\n",
      "armed has 2.133% Missing values\n",
      "city has 0.7279% Missing values\n",
      "flee has 13.5968% Missing values\n",
      "police_departments_involved has 0.0101% Missing values\n"
     ]
    }
   ],
   "source": [
    "missing = pd.DataFrame((df_copy.isnull().sum())*100/df_copy.shape[0]).reset_index()\n",
    "plt.figure(figsize=(16,5))\n",
    "ax = sns.pointplot(x='index',y=0,data=missing)\n",
    "plt.xticks(rotation =90,fontsize =7)\n",
    "plt.title(\"Percentage of Missing values\")\n",
    "plt.ylabel(\"PERCENTAGE\")\n",
    "plt.show()\n",
    "cat_nan_features = [feature for feature in df_copy.columns if df_copy[feature].isnull().sum()>0 and df_copy[feature].dtype=='O']\n",
    "for feature in cat_nan_features:\n",
    "    print(f\"{feature} has {np.round(df_copy[feature].isnull().sum()/9892*100,4)}% Missing values\")"
   ]
  },
  {
   "cell_type": "markdown",
   "metadata": {},
   "source": [
    "### Name is no so important let's drop it out"
   ]
  },
  {
   "cell_type": "code",
   "execution_count": 17,
   "metadata": {},
   "outputs": [],
   "source": [
    "df_copy = df_copy.drop(\"name\", axis='columns')\n"
   ]
  },
  {
   "cell_type": "code",
   "execution_count": 18,
   "metadata": {},
   "outputs": [
    {
     "name": "stdout",
     "output_type": "stream",
     "text": [
      "<class 'pandas.core.frame.DataFrame'>\n",
      "Index: 8288 entries, 0 to 9891\n",
      "Data columns (total 11 columns):\n",
      " #   Column                       Non-Null Count  Dtype  \n",
      "---  ------                       --------------  -----  \n",
      " 0   date                         8288 non-null   object \n",
      " 1   age                          8288 non-null   float64\n",
      " 2   gender                       8288 non-null   object \n",
      " 3   armed                        8288 non-null   object \n",
      " 4   race                         8288 non-null   object \n",
      " 5   city                         8288 non-null   object \n",
      " 6   state                        8288 non-null   object \n",
      " 7   flee                         8288 non-null   object \n",
      " 8   body_camera                  8288 non-null   bool   \n",
      " 9   signs_of_mental_illness      8288 non-null   bool   \n",
      " 10  police_departments_involved  8288 non-null   object \n",
      "dtypes: bool(2), float64(1), object(8)\n",
      "memory usage: 663.7+ KB\n"
     ]
    }
   ],
   "source": [
    "# The percentage of other categorical nan values is very less less drop the nan rows\n",
    "update_df = df_copy.dropna(axis=0)\n",
    "update_df.info()"
   ]
  },
  {
   "cell_type": "markdown",
   "metadata": {},
   "source": [
    "# Detect Outliers "
   ]
  },
  {
   "cell_type": "code",
   "execution_count": 19,
   "metadata": {},
   "outputs": [
    {
     "data": {
      "text/plain": [
       "count    8288.000000\n",
       "mean       37.233176\n",
       "std        12.672674\n",
       "min         4.000000\n",
       "25%        28.000000\n",
       "50%        36.000000\n",
       "75%        45.000000\n",
       "max        92.000000\n",
       "Name: age, dtype: float64"
      ]
     },
     "execution_count": 19,
     "metadata": {},
     "output_type": "execute_result"
    }
   ],
   "source": [
    "# There is only one Numerical column and there men and median is approx similar\n",
    "update_df.age.describe()"
   ]
  },
  {
   "cell_type": "markdown",
   "metadata": {},
   "source": [
    "Mean and Median is same 37 and 36 is most likely to similar that means there is no such outliers......\n",
    "\n",
    "### Let's confirm by outliers detection methods\n",
    "like box plot, 3 sigma rule"
   ]
  },
  {
   "cell_type": "code",
   "execution_count": 20,
   "metadata": {},
   "outputs": [],
   "source": [
    "# we are using 3 sigma rule for finding outliers\n",
    "def Three_sigma_detect_outliers(df_copy):\n",
    "    std = np.std(df_copy['age'])\n",
    "    mean = np.mean(df_copy['age'])\n",
    "    outliers_cutoff = std*3\n",
    "    lower_limit = mean-outliers_cutoff\n",
    "    upper_limit = mean+outliers_cutoff\n",
    "    outliers = []\n",
    "    for i, feature in enumerate(df_copy['age']):\n",
    "        if feature > upper_limit or feature < lower_limit:\n",
    "            outliers.append(feature)\n",
    "    return outliers"
   ]
  },
  {
   "cell_type": "code",
   "execution_count": 21,
   "metadata": {},
   "outputs": [
    {
     "data": {
      "text/plain": [
       "71"
      ]
     },
     "execution_count": 21,
     "metadata": {},
     "output_type": "execute_result"
    }
   ],
   "source": [
    "# Using 3 sigma Rules\n",
    "Three_sigma_outliers = Three_sigma_detect_outliers(df_copy)\n",
    "len(Three_sigma_outliers)"
   ]
  },
  {
   "cell_type": "markdown",
   "metadata": {},
   "source": [
    "There is 71 outliers in the age column of dataset let's findout percentage\n"
   ]
  },
  {
   "cell_type": "code",
   "execution_count": 22,
   "metadata": {},
   "outputs": [
    {
     "name": "stdout",
     "output_type": "stream",
     "text": [
      "Outliers Percentage 0.008566602316602317%\n"
     ]
    }
   ],
   "source": [
    "print(f\"Outliers Percentage {len(Three_sigma_outliers)/len(update_df*100)}%\")"
   ]
  },
  {
   "cell_type": "markdown",
   "metadata": {},
   "source": [
    "The ouliers percntage is very low lets carry it on dataset\n",
    "\n",
    "For understanding we use box plot technique to see outliers"
   ]
  },
  {
   "cell_type": "code",
   "execution_count": 23,
   "metadata": {},
   "outputs": [],
   "source": [
    "def Box_plot_detect_outliers(df_copy):\n",
    "    Q1 = df_copy['age'].quantile(0.25)\n",
    "    Q3 = df_copy['age'].quantile(0.75)\n",
    "    IQR = Q3-Q1\n",
    "    lower_fence= Q1 - 1.5*IQR\n",
    "    upper_fence= Q3 + 1.5*IQR\n",
    "    box_plot_outliers = []\n",
    "    for i, feature in enumerate(df_copy['age']):\n",
    "        if feature > upper_fence or feature < lower_fence:\n",
    "            box_plot_outliers.append(feature)\n",
    "    return box_plot_outliers"
   ]
  },
  {
   "cell_type": "code",
   "execution_count": 24,
   "metadata": {},
   "outputs": [
    {
     "data": {
      "text/plain": [
       "130"
      ]
     },
     "execution_count": 24,
     "metadata": {},
     "output_type": "execute_result"
    }
   ],
   "source": [
    "# Using Box plot\n",
    "Box_plot_outliers = Box_plot_detect_outliers(df_copy)\n",
    "len(Box_plot_outliers)"
   ]
  },
  {
   "cell_type": "code",
   "execution_count": 25,
   "metadata": {},
   "outputs": [
    {
     "name": "stdout",
     "output_type": "stream",
     "text": [
      "Outliers Percentage 0.015685328185328185%\n"
     ]
    }
   ],
   "source": [
    "print(f\"Outliers Percentage {len(Box_plot_outliers)/len(update_df*100)}%\")\n"
   ]
  },
  {
   "cell_type": "markdown",
   "metadata": {},
   "source": [
    "Again the percentage is very low,that means this dataset is close to log normal distribution lets see in histogram\n",
    "\n",
    "### lets plot a histogram "
   ]
  },
  {
   "cell_type": "code",
   "execution_count": 26,
   "metadata": {},
   "outputs": [
    {
     "data": {
      "text/plain": [
       "<Axes: xlabel='age', ylabel='Count'>"
      ]
     },
     "execution_count": 26,
     "metadata": {},
     "output_type": "execute_result"
    },
    {
     "data": {
      "image/png": "[encoded data removed]",
      "text/plain": [
       "<Figure size 640x480 with 1 Axes>"
      ]
     },
     "metadata": {},
     "output_type": "display_data"
    }
   ],
   "source": [
    "sns.histplot(update_df['age'],kde = True)"
   ]
  },
  {
   "cell_type": "markdown",
   "metadata": {},
   "source": [
    "Its quite normal distribution lets use log formula to see better result"
   ]
  },
  {
   "cell_type": "code",
   "execution_count": 27,
   "metadata": {},
   "outputs": [
    {
     "data": {
      "text/plain": [
       "<Axes: xlabel='age', ylabel='Count'>"
      ]
     },
     "execution_count": 27,
     "metadata": {},
     "output_type": "execute_result"
    },
    {
     "data": {
      "image/png": "[encoded data removed]",
      "text/plain": [
       "<Figure size 640x480 with 1 Axes>"
      ]
     },
     "metadata": {},
     "output_type": "display_data"
    }
   ],
   "source": [
    "copy = update_df.copy()\n",
    "\n",
    "copy['age'] = np.log(copy.age)\n",
    "sns.histplot(copy['age'],kde = True)"
   ]
  },
  {
   "cell_type": "markdown",
   "metadata": {},
   "source": [
    "# Handing date time varibales\n",
    "lets convert the age in the years"
   ]
  },
  {
   "cell_type": "code",
   "execution_count": 28,
   "metadata": {},
   "outputs": [
    {
     "name": "stderr",
     "output_type": "stream",
     "text": [
      "C:\\Users\\parvp\\AppData\\Local\\Temp\\ipykernel_24592\\2700761496.py:1: SettingWithCopyWarning: \n",
      "A value is trying to be set on a copy of a slice from a DataFrame.\n",
      "Try using .loc[row_indexer,col_indexer] = value instead\n",
      "\n",
      "See the caveats in the documentation: https://pandas.pydata.org/pandas-docs/stable/user_guide/indexing.html#returning-a-view-versus-a-copy\n",
      "  update_df['date'] = pd.to_datetime(update_df['date'], errors='coerce')\n",
      "C:\\Users\\parvp\\AppData\\Local\\Temp\\ipykernel_24592\\2700761496.py:2: SettingWithCopyWarning: \n",
      "A value is trying to be set on a copy of a slice from a DataFrame.\n",
      "Try using .loc[row_indexer,col_indexer] = value instead\n",
      "\n",
      "See the caveats in the documentation: https://pandas.pydata.org/pandas-docs/stable/user_guide/indexing.html#returning-a-view-versus-a-copy\n",
      "  update_df['year'] = update_df['date'].dt.year.astype(float)\n"
     ]
    },
    {
     "data": {
      "text/html": [
       "<div>\n",
       "<style scoped>\n",
       "    .dataframe tbody tr th:only-of-type {\n",
       "        vertical-align: middle;\n",
       "    }\n",
       "\n",
       "    .dataframe tbody tr th {\n",
       "        vertical-align: top;\n",
       "    }\n",
       "\n",
       "    .dataframe thead th {\n",
       "        text-align: right;\n",
       "    }\n",
       "</style>\n",
       "<table border=\"1\" class=\"dataframe\">\n",
       "  <thead>\n",
       "    <tr style=\"text-align: right;\">\n",
       "      <th></th>\n",
       "      <th>date</th>\n",
       "      <th>age</th>\n",
       "      <th>gender</th>\n",
       "      <th>armed</th>\n",
       "      <th>race</th>\n",
       "      <th>city</th>\n",
       "      <th>state</th>\n",
       "      <th>flee</th>\n",
       "      <th>body_camera</th>\n",
       "      <th>signs_of_mental_illness</th>\n",
       "      <th>police_departments_involved</th>\n",
       "      <th>year</th>\n",
       "    </tr>\n",
       "  </thead>\n",
       "  <tbody>\n",
       "    <tr>\n",
       "      <th>0</th>\n",
       "      <td>2015-01-02</td>\n",
       "      <td>47.000000</td>\n",
       "      <td>male</td>\n",
       "      <td>gun</td>\n",
       "      <td>White</td>\n",
       "      <td>Aloha</td>\n",
       "      <td>OR</td>\n",
       "      <td>not</td>\n",
       "      <td>False</td>\n",
       "      <td>False</td>\n",
       "      <td>Washington County Sheriff's Office, OR</td>\n",
       "      <td>2015.0</td>\n",
       "    </tr>\n",
       "    <tr>\n",
       "      <th>1</th>\n",
       "      <td>2015-01-02</td>\n",
       "      <td>53.000000</td>\n",
       "      <td>male</td>\n",
       "      <td>gun</td>\n",
       "      <td>Asian</td>\n",
       "      <td>Shelton</td>\n",
       "      <td>WA</td>\n",
       "      <td>not</td>\n",
       "      <td>False</td>\n",
       "      <td>True</td>\n",
       "      <td>Mason County Sheriff's Office, WA</td>\n",
       "      <td>2015.0</td>\n",
       "    </tr>\n",
       "    <tr>\n",
       "      <th>2</th>\n",
       "      <td>2015-01-03</td>\n",
       "      <td>23.000000</td>\n",
       "      <td>male</td>\n",
       "      <td>unarmed</td>\n",
       "      <td>Hispanic</td>\n",
       "      <td>Wichita</td>\n",
       "      <td>KS</td>\n",
       "      <td>not</td>\n",
       "      <td>False</td>\n",
       "      <td>False</td>\n",
       "      <td>Wichita Police Department, KS</td>\n",
       "      <td>2015.0</td>\n",
       "    </tr>\n",
       "    <tr>\n",
       "      <th>3</th>\n",
       "      <td>2015-01-04</td>\n",
       "      <td>18.000000</td>\n",
       "      <td>male</td>\n",
       "      <td>gun</td>\n",
       "      <td>White</td>\n",
       "      <td>Guthrie</td>\n",
       "      <td>OK</td>\n",
       "      <td>not</td>\n",
       "      <td>False</td>\n",
       "      <td>False</td>\n",
       "      <td>Oklahoma Highway Patrol, OK</td>\n",
       "      <td>2015.0</td>\n",
       "    </tr>\n",
       "    <tr>\n",
       "      <th>4</th>\n",
       "      <td>2015-01-04</td>\n",
       "      <td>39.000000</td>\n",
       "      <td>male</td>\n",
       "      <td>other</td>\n",
       "      <td>Hispanic</td>\n",
       "      <td>Evans</td>\n",
       "      <td>CO</td>\n",
       "      <td>not</td>\n",
       "      <td>False</td>\n",
       "      <td>False</td>\n",
       "      <td>Evans Police Department, CO</td>\n",
       "      <td>2015.0</td>\n",
       "    </tr>\n",
       "    <tr>\n",
       "      <th>...</th>\n",
       "      <td>...</td>\n",
       "      <td>...</td>\n",
       "      <td>...</td>\n",
       "      <td>...</td>\n",
       "      <td>...</td>\n",
       "      <td>...</td>\n",
       "      <td>...</td>\n",
       "      <td>...</td>\n",
       "      <td>...</td>\n",
       "      <td>...</td>\n",
       "      <td>...</td>\n",
       "      <td>...</td>\n",
       "    </tr>\n",
       "    <tr>\n",
       "      <th>9887</th>\n",
       "      <td>2024-07-13</td>\n",
       "      <td>35.000000</td>\n",
       "      <td>male</td>\n",
       "      <td>knife</td>\n",
       "      <td>Unknown</td>\n",
       "      <td>Tuscaloosa</td>\n",
       "      <td>AL</td>\n",
       "      <td>not</td>\n",
       "      <td>False</td>\n",
       "      <td>False</td>\n",
       "      <td>Tuscaloosa Police Department, AL</td>\n",
       "      <td>2024.0</td>\n",
       "    </tr>\n",
       "    <tr>\n",
       "      <th>9888</th>\n",
       "      <td>2024-07-13</td>\n",
       "      <td>35.000000</td>\n",
       "      <td>male</td>\n",
       "      <td>gun</td>\n",
       "      <td>Unknown</td>\n",
       "      <td>Easley</td>\n",
       "      <td>SC</td>\n",
       "      <td>not</td>\n",
       "      <td>False</td>\n",
       "      <td>False</td>\n",
       "      <td>Easley Police Department, SC</td>\n",
       "      <td>2024.0</td>\n",
       "    </tr>\n",
       "    <tr>\n",
       "      <th>9889</th>\n",
       "      <td>2024-07-15</td>\n",
       "      <td>37.409507</td>\n",
       "      <td>male</td>\n",
       "      <td>undetermined</td>\n",
       "      <td>Unknown</td>\n",
       "      <td>Graham</td>\n",
       "      <td>WA</td>\n",
       "      <td>other</td>\n",
       "      <td>False</td>\n",
       "      <td>False</td>\n",
       "      <td>Pierce County Sheriff's Department, WA</td>\n",
       "      <td>2024.0</td>\n",
       "    </tr>\n",
       "    <tr>\n",
       "      <th>9890</th>\n",
       "      <td>2024-07-15</td>\n",
       "      <td>35.000000</td>\n",
       "      <td>male</td>\n",
       "      <td>knife</td>\n",
       "      <td>White</td>\n",
       "      <td>Juneau</td>\n",
       "      <td>AK</td>\n",
       "      <td>foot</td>\n",
       "      <td>False</td>\n",
       "      <td>False</td>\n",
       "      <td>Alaska Wildlife Troopers, AK;Juneau Police Dep...</td>\n",
       "      <td>2024.0</td>\n",
       "    </tr>\n",
       "    <tr>\n",
       "      <th>9891</th>\n",
       "      <td>2024-07-15</td>\n",
       "      <td>68.000000</td>\n",
       "      <td>male</td>\n",
       "      <td>replica</td>\n",
       "      <td>White</td>\n",
       "      <td>Beaumont</td>\n",
       "      <td>TX</td>\n",
       "      <td>not</td>\n",
       "      <td>False</td>\n",
       "      <td>True</td>\n",
       "      <td>Beaumont Police Department, TX</td>\n",
       "      <td>2024.0</td>\n",
       "    </tr>\n",
       "  </tbody>\n",
       "</table>\n",
       "<p>8288 rows × 12 columns</p>\n",
       "</div>"
      ],
      "text/plain": [
       "           date        age gender         armed      race        city state  \\\n",
       "0    2015-01-02  47.000000   male           gun     White       Aloha    OR   \n",
       "1    2015-01-02  53.000000   male           gun     Asian     Shelton    WA   \n",
       "2    2015-01-03  23.000000   male       unarmed  Hispanic     Wichita    KS   \n",
       "3    2015-01-04  18.000000   male           gun     White     Guthrie    OK   \n",
       "4    2015-01-04  39.000000   male         other  Hispanic       Evans    CO   \n",
       "...         ...        ...    ...           ...       ...         ...   ...   \n",
       "9887 2024-07-13  35.000000   male         knife   Unknown  Tuscaloosa    AL   \n",
       "9888 2024-07-13  35.000000   male           gun   Unknown      Easley    SC   \n",
       "9889 2024-07-15  37.409507   male  undetermined   Unknown      Graham    WA   \n",
       "9890 2024-07-15  35.000000   male         knife     White      Juneau    AK   \n",
       "9891 2024-07-15  68.000000   male       replica     White    Beaumont    TX   \n",
       "\n",
       "       flee  body_camera  signs_of_mental_illness  \\\n",
       "0       not        False                    False   \n",
       "1       not        False                     True   \n",
       "2       not        False                    False   \n",
       "3       not        False                    False   \n",
       "4       not        False                    False   \n",
       "...     ...          ...                      ...   \n",
       "9887    not        False                    False   \n",
       "9888    not        False                    False   \n",
       "9889  other        False                    False   \n",
       "9890   foot        False                    False   \n",
       "9891    not        False                     True   \n",
       "\n",
       "                            police_departments_involved    year  \n",
       "0                Washington County Sheriff's Office, OR  2015.0  \n",
       "1                     Mason County Sheriff's Office, WA  2015.0  \n",
       "2                         Wichita Police Department, KS  2015.0  \n",
       "3                           Oklahoma Highway Patrol, OK  2015.0  \n",
       "4                           Evans Police Department, CO  2015.0  \n",
       "...                                                 ...     ...  \n",
       "9887                   Tuscaloosa Police Department, AL  2024.0  \n",
       "9888                       Easley Police Department, SC  2024.0  \n",
       "9889             Pierce County Sheriff's Department, WA  2024.0  \n",
       "9890  Alaska Wildlife Troopers, AK;Juneau Police Dep...  2024.0  \n",
       "9891                     Beaumont Police Department, TX  2024.0  \n",
       "\n",
       "[8288 rows x 12 columns]"
      ]
     },
     "execution_count": 28,
     "metadata": {},
     "output_type": "execute_result"
    }
   ],
   "source": [
    "update_df['date'] = pd.to_datetime(update_df['date'], errors='coerce')\n",
    "update_df['year'] = update_df['date'].dt.year.astype(float)\n",
    "update_df"
   ]
  },
  {
   "cell_type": "code",
   "execution_count": 29,
   "metadata": {},
   "outputs": [
    {
     "data": {
      "text/plain": [
       "array(['gun', 'unarmed', 'other', 'replica', 'knife', 'blunt_object',\n",
       "       'vehicle', 'undetermined', 'other,gun', 'unknown',\n",
       "       'blunt_object,blunt_object', 'gun,knife', 'knife,blunt_object',\n",
       "       'vehicle,gun', 'gun,vehicle', 'replica,vehicle',\n",
       "       'blunt_object,knife', 'knife,vehicle', 'vehicle,knife,other',\n",
       "       'knife,knife', 'other,blunt_object,knife', 'other,knife',\n",
       "       'vehicle,knife', 'gun,other', 'blunt_object,other'], dtype=object)"
      ]
     },
     "execution_count": 29,
     "metadata": {},
     "output_type": "execute_result"
    }
   ],
   "source": [
    "update_df.armed.unique()"
   ]
  },
  {
   "cell_type": "code",
   "execution_count": 35,
   "metadata": {},
   "outputs": [],
   "source": [
    "# update_df.to_csv('washington-post-police-shootings-Analysis.csv')"
   ]
  },
  {
   "cell_type": "code",
   "execution_count": 37,
   "metadata": {},
   "outputs": [
    {
     "data": {
      "text/html": [
       "<div>\n",
       "<style scoped>\n",
       "    .dataframe tbody tr th:only-of-type {\n",
       "        vertical-align: middle;\n",
       "    }\n",
       "\n",
       "    .dataframe tbody tr th {\n",
       "        vertical-align: top;\n",
       "    }\n",
       "\n",
       "    .dataframe thead th {\n",
       "        text-align: right;\n",
       "    }\n",
       "</style>\n",
       "<table border=\"1\" class=\"dataframe\">\n",
       "  <thead>\n",
       "    <tr style=\"text-align: right;\">\n",
       "      <th></th>\n",
       "      <th>date</th>\n",
       "      <th>age</th>\n",
       "      <th>gender</th>\n",
       "      <th>armed</th>\n",
       "      <th>race</th>\n",
       "      <th>city</th>\n",
       "      <th>state</th>\n",
       "      <th>flee</th>\n",
       "      <th>body_camera</th>\n",
       "      <th>signs_of_mental_illness</th>\n",
       "      <th>police_departments_involved</th>\n",
       "      <th>year</th>\n",
       "    </tr>\n",
       "  </thead>\n",
       "  <tbody>\n",
       "    <tr>\n",
       "      <th>0</th>\n",
       "      <td>2015-01-02</td>\n",
       "      <td>47.000000</td>\n",
       "      <td>male</td>\n",
       "      <td>gun</td>\n",
       "      <td>White</td>\n",
       "      <td>Aloha</td>\n",
       "      <td>OR</td>\n",
       "      <td>not</td>\n",
       "      <td>False</td>\n",
       "      <td>False</td>\n",
       "      <td>Washington County Sheriff's Office, OR</td>\n",
       "      <td>2015.0</td>\n",
       "    </tr>\n",
       "    <tr>\n",
       "      <th>1</th>\n",
       "      <td>2015-01-02</td>\n",
       "      <td>53.000000</td>\n",
       "      <td>male</td>\n",
       "      <td>gun</td>\n",
       "      <td>Asian</td>\n",
       "      <td>Shelton</td>\n",
       "      <td>WA</td>\n",
       "      <td>not</td>\n",
       "      <td>False</td>\n",
       "      <td>True</td>\n",
       "      <td>Mason County Sheriff's Office, WA</td>\n",
       "      <td>2015.0</td>\n",
       "    </tr>\n",
       "    <tr>\n",
       "      <th>2</th>\n",
       "      <td>2015-01-03</td>\n",
       "      <td>23.000000</td>\n",
       "      <td>male</td>\n",
       "      <td>unarmed</td>\n",
       "      <td>Hispanic</td>\n",
       "      <td>Wichita</td>\n",
       "      <td>KS</td>\n",
       "      <td>not</td>\n",
       "      <td>False</td>\n",
       "      <td>False</td>\n",
       "      <td>Wichita Police Department, KS</td>\n",
       "      <td>2015.0</td>\n",
       "    </tr>\n",
       "    <tr>\n",
       "      <th>3</th>\n",
       "      <td>2015-01-04</td>\n",
       "      <td>18.000000</td>\n",
       "      <td>male</td>\n",
       "      <td>gun</td>\n",
       "      <td>White</td>\n",
       "      <td>Guthrie</td>\n",
       "      <td>OK</td>\n",
       "      <td>not</td>\n",
       "      <td>False</td>\n",
       "      <td>False</td>\n",
       "      <td>Oklahoma Highway Patrol, OK</td>\n",
       "      <td>2015.0</td>\n",
       "    </tr>\n",
       "    <tr>\n",
       "      <th>4</th>\n",
       "      <td>2015-01-04</td>\n",
       "      <td>39.000000</td>\n",
       "      <td>male</td>\n",
       "      <td>other</td>\n",
       "      <td>Hispanic</td>\n",
       "      <td>Evans</td>\n",
       "      <td>CO</td>\n",
       "      <td>not</td>\n",
       "      <td>False</td>\n",
       "      <td>False</td>\n",
       "      <td>Evans Police Department, CO</td>\n",
       "      <td>2015.0</td>\n",
       "    </tr>\n",
       "    <tr>\n",
       "      <th>...</th>\n",
       "      <td>...</td>\n",
       "      <td>...</td>\n",
       "      <td>...</td>\n",
       "      <td>...</td>\n",
       "      <td>...</td>\n",
       "      <td>...</td>\n",
       "      <td>...</td>\n",
       "      <td>...</td>\n",
       "      <td>...</td>\n",
       "      <td>...</td>\n",
       "      <td>...</td>\n",
       "      <td>...</td>\n",
       "    </tr>\n",
       "    <tr>\n",
       "      <th>9887</th>\n",
       "      <td>2024-07-13</td>\n",
       "      <td>35.000000</td>\n",
       "      <td>male</td>\n",
       "      <td>knife</td>\n",
       "      <td>Unknown</td>\n",
       "      <td>Tuscaloosa</td>\n",
       "      <td>AL</td>\n",
       "      <td>not</td>\n",
       "      <td>False</td>\n",
       "      <td>False</td>\n",
       "      <td>Tuscaloosa Police Department, AL</td>\n",
       "      <td>2024.0</td>\n",
       "    </tr>\n",
       "    <tr>\n",
       "      <th>9888</th>\n",
       "      <td>2024-07-13</td>\n",
       "      <td>35.000000</td>\n",
       "      <td>male</td>\n",
       "      <td>gun</td>\n",
       "      <td>Unknown</td>\n",
       "      <td>Easley</td>\n",
       "      <td>SC</td>\n",
       "      <td>not</td>\n",
       "      <td>False</td>\n",
       "      <td>False</td>\n",
       "      <td>Easley Police Department, SC</td>\n",
       "      <td>2024.0</td>\n",
       "    </tr>\n",
       "    <tr>\n",
       "      <th>9889</th>\n",
       "      <td>2024-07-15</td>\n",
       "      <td>37.409507</td>\n",
       "      <td>male</td>\n",
       "      <td>undetermined</td>\n",
       "      <td>Unknown</td>\n",
       "      <td>Graham</td>\n",
       "      <td>WA</td>\n",
       "      <td>other</td>\n",
       "      <td>False</td>\n",
       "      <td>False</td>\n",
       "      <td>Pierce County Sheriff's Department, WA</td>\n",
       "      <td>2024.0</td>\n",
       "    </tr>\n",
       "    <tr>\n",
       "      <th>9890</th>\n",
       "      <td>2024-07-15</td>\n",
       "      <td>35.000000</td>\n",
       "      <td>male</td>\n",
       "      <td>knife</td>\n",
       "      <td>White</td>\n",
       "      <td>Juneau</td>\n",
       "      <td>AK</td>\n",
       "      <td>foot</td>\n",
       "      <td>False</td>\n",
       "      <td>False</td>\n",
       "      <td>Alaska Wildlife Troopers, AK;Juneau Police Dep...</td>\n",
       "      <td>2024.0</td>\n",
       "    </tr>\n",
       "    <tr>\n",
       "      <th>9891</th>\n",
       "      <td>2024-07-15</td>\n",
       "      <td>68.000000</td>\n",
       "      <td>male</td>\n",
       "      <td>replica</td>\n",
       "      <td>White</td>\n",
       "      <td>Beaumont</td>\n",
       "      <td>TX</td>\n",
       "      <td>not</td>\n",
       "      <td>False</td>\n",
       "      <td>True</td>\n",
       "      <td>Beaumont Police Department, TX</td>\n",
       "      <td>2024.0</td>\n",
       "    </tr>\n",
       "  </tbody>\n",
       "</table>\n",
       "<p>8288 rows × 12 columns</p>\n",
       "</div>"
      ],
      "text/plain": [
       "           date        age gender         armed      race        city state  \\\n",
       "0    2015-01-02  47.000000   male           gun     White       Aloha    OR   \n",
       "1    2015-01-02  53.000000   male           gun     Asian     Shelton    WA   \n",
       "2    2015-01-03  23.000000   male       unarmed  Hispanic     Wichita    KS   \n",
       "3    2015-01-04  18.000000   male           gun     White     Guthrie    OK   \n",
       "4    2015-01-04  39.000000   male         other  Hispanic       Evans    CO   \n",
       "...         ...        ...    ...           ...       ...         ...   ...   \n",
       "9887 2024-07-13  35.000000   male         knife   Unknown  Tuscaloosa    AL   \n",
       "9888 2024-07-13  35.000000   male           gun   Unknown      Easley    SC   \n",
       "9889 2024-07-15  37.409507   male  undetermined   Unknown      Graham    WA   \n",
       "9890 2024-07-15  35.000000   male         knife     White      Juneau    AK   \n",
       "9891 2024-07-15  68.000000   male       replica     White    Beaumont    TX   \n",
       "\n",
       "       flee  body_camera  signs_of_mental_illness  \\\n",
       "0       not        False                    False   \n",
       "1       not        False                     True   \n",
       "2       not        False                    False   \n",
       "3       not        False                    False   \n",
       "4       not        False                    False   \n",
       "...     ...          ...                      ...   \n",
       "9887    not        False                    False   \n",
       "9888    not        False                    False   \n",
       "9889  other        False                    False   \n",
       "9890   foot        False                    False   \n",
       "9891    not        False                     True   \n",
       "\n",
       "                            police_departments_involved    year  \n",
       "0                Washington County Sheriff's Office, OR  2015.0  \n",
       "1                     Mason County Sheriff's Office, WA  2015.0  \n",
       "2                         Wichita Police Department, KS  2015.0  \n",
       "3                           Oklahoma Highway Patrol, OK  2015.0  \n",
       "4                           Evans Police Department, CO  2015.0  \n",
       "...                                                 ...     ...  \n",
       "9887                   Tuscaloosa Police Department, AL  2024.0  \n",
       "9888                       Easley Police Department, SC  2024.0  \n",
       "9889             Pierce County Sheriff's Department, WA  2024.0  \n",
       "9890  Alaska Wildlife Troopers, AK;Juneau Police Dep...  2024.0  \n",
       "9891                     Beaumont Police Department, TX  2024.0  \n",
       "\n",
       "[8288 rows x 12 columns]"
      ]
     },
     "execution_count": 37,
     "metadata": {},
     "output_type": "execute_result"
    }
   ],
   "source": [
    "update_df"
   ]
  },
  {
   "cell_type": "code",
   "execution_count": null,
   "metadata": {},
   "outputs": [],
   "source": []
  },
  {
   "cell_type": "markdown",
   "metadata": {},
   "source": [
    "#### upper one is better"
   ]
  },
  {
   "cell_type": "markdown",
   "metadata": {},
   "source": [
    "# Conclusion\n",
    "#### 1) Handle Missing Values - \n",
    "Data is ready for futher analysis all null values are full\n",
    "\n",
    "#### 2) No Such Outliers -\n",
    "There is only one numerical column and in that there is no such outliers \n",
    "\n",
    "#### 3) Normal distribution - \n",
    "The distibution of data is quite close to Normal distribtion"
   ]
  },
  {
   "cell_type": "code",
   "execution_count": null,
   "metadata": {},
   "outputs": [],
   "source": []
  }
 ],
 "metadata": {
  "kernelspec": {
   "display_name": "Python 3",
   "language": "python",
   "name": "python3"
  },
  "language_info": {
   "codemirror_mode": {
    "name": "ipython",
    "version": 3
   },
   "file_extension": ".py",
   "mimetype": "text/x-python",
   "name": "python",
   "nbconvert_exporter": "python",
   "pygments_lexer": "ipython3",
   "version": "3.11.0"
  }
 },
 "nbformat": 4,
 "nbformat_minor": 2
}
