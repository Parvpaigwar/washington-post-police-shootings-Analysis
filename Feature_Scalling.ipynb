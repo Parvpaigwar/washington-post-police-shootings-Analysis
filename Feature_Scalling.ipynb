{
 "cells": [
  {
   "cell_type": "code",
   "execution_count": 62,
   "metadata": {},
   "outputs": [],
   "source": [
    "import pandas as pd\n",
    "import numpy as np\n",
    "import matplotlib.pyplot as plt\n",
    "import seaborn as sns"
   ]
  },
  {
   "cell_type": "markdown",
   "metadata": {},
   "source": [
    "# Feature scalling"
   ]
  },
  {
   "cell_type": "code",
   "execution_count": 63,
   "metadata": {},
   "outputs": [
    {
     "data": {
      "text/html": [
       "<div>\n",
       "<style scoped>\n",
       "    .dataframe tbody tr th:only-of-type {\n",
       "        vertical-align: middle;\n",
       "    }\n",
       "\n",
       "    .dataframe tbody tr th {\n",
       "        vertical-align: top;\n",
       "    }\n",
       "\n",
       "    .dataframe thead th {\n",
       "        text-align: right;\n",
       "    }\n",
       "</style>\n",
       "<table border=\"1\" class=\"dataframe\">\n",
       "  <thead>\n",
       "    <tr style=\"text-align: center;\">\n",
       "      <th></th>\n",
       "      <th>Unnamed: 0</th>\n",
       "      <th>date</th>\n",
       "      <th>age</th>\n",
       "      <th>gender</th>\n",
       "      <th>armed</th>\n",
       "      <th>race</th>\n",
       "      <th>city</th>\n",
       "      <th>state</th>\n",
       "      <th>flee</th>\n",
       "      <th>body_camera</th>\n",
       "      <th>signs_of_mental_illness</th>\n",
       "      <th>police_departments_involved</th>\n",
       "      <th>year</th>\n",
       "    </tr>\n",
       "  </thead>\n",
       "  <tbody>\n",
       "    <tr>\n",
       "      <th>0</th>\n",
       "      <td>0</td>\n",
       "      <td>2015-01-02</td>\n",
       "      <td>47.000000</td>\n",
       "      <td>male</td>\n",
       "      <td>gun</td>\n",
       "      <td>White</td>\n",
       "      <td>Aloha</td>\n",
       "      <td>OR</td>\n",
       "      <td>not</td>\n",
       "      <td>False</td>\n",
       "      <td>False</td>\n",
       "      <td>Washington County Sheriff's Office, OR</td>\n",
       "      <td>2015.0</td>\n",
       "    </tr>\n",
       "    <tr>\n",
       "      <th>1</th>\n",
       "      <td>1</td>\n",
       "      <td>2015-01-02</td>\n",
       "      <td>53.000000</td>\n",
       "      <td>male</td>\n",
       "      <td>gun</td>\n",
       "      <td>Asian</td>\n",
       "      <td>Shelton</td>\n",
       "      <td>WA</td>\n",
       "      <td>not</td>\n",
       "      <td>False</td>\n",
       "      <td>True</td>\n",
       "      <td>Mason County Sheriff's Office, WA</td>\n",
       "      <td>2015.0</td>\n",
       "    </tr>\n",
       "    <tr>\n",
       "      <th>2</th>\n",
       "      <td>2</td>\n",
       "      <td>2015-01-03</td>\n",
       "      <td>23.000000</td>\n",
       "      <td>male</td>\n",
       "      <td>unarmed</td>\n",
       "      <td>Hispanic</td>\n",
       "      <td>Wichita</td>\n",
       "      <td>KS</td>\n",
       "      <td>not</td>\n",
       "      <td>False</td>\n",
       "      <td>False</td>\n",
       "      <td>Wichita Police Department, KS</td>\n",
       "      <td>2015.0</td>\n",
       "    </tr>\n",
       "    <tr>\n",
       "      <th>3</th>\n",
       "      <td>3</td>\n",
       "      <td>2015-01-04</td>\n",
       "      <td>18.000000</td>\n",
       "      <td>male</td>\n",
       "      <td>gun</td>\n",
       "      <td>White</td>\n",
       "      <td>Guthrie</td>\n",
       "      <td>OK</td>\n",
       "      <td>not</td>\n",
       "      <td>False</td>\n",
       "      <td>False</td>\n",
       "      <td>Oklahoma Highway Patrol, OK</td>\n",
       "      <td>2015.0</td>\n",
       "    </tr>\n",
       "    <tr>\n",
       "      <th>4</th>\n",
       "      <td>4</td>\n",
       "      <td>2015-01-04</td>\n",
       "      <td>39.000000</td>\n",
       "      <td>male</td>\n",
       "      <td>other</td>\n",
       "      <td>Hispanic</td>\n",
       "      <td>Evans</td>\n",
       "      <td>CO</td>\n",
       "      <td>not</td>\n",
       "      <td>False</td>\n",
       "      <td>False</td>\n",
       "      <td>Evans Police Department, CO</td>\n",
       "      <td>2015.0</td>\n",
       "    </tr>\n",
       "    <tr>\n",
       "      <th>...</th>\n",
       "      <td>...</td>\n",
       "      <td>...</td>\n",
       "      <td>...</td>\n",
       "      <td>...</td>\n",
       "      <td>...</td>\n",
       "      <td>...</td>\n",
       "      <td>...</td>\n",
       "      <td>...</td>\n",
       "      <td>...</td>\n",
       "      <td>...</td>\n",
       "      <td>...</td>\n",
       "      <td>...</td>\n",
       "      <td>...</td>\n",
       "    </tr>\n",
       "    <tr>\n",
       "      <th>8283</th>\n",
       "      <td>9887</td>\n",
       "      <td>2024-07-13</td>\n",
       "      <td>35.000000</td>\n",
       "      <td>male</td>\n",
       "      <td>knife</td>\n",
       "      <td>Unknown</td>\n",
       "      <td>Tuscaloosa</td>\n",
       "      <td>AL</td>\n",
       "      <td>not</td>\n",
       "      <td>False</td>\n",
       "      <td>False</td>\n",
       "      <td>Tuscaloosa Police Department, AL</td>\n",
       "      <td>2024.0</td>\n",
       "    </tr>\n",
       "    <tr>\n",
       "      <th>8284</th>\n",
       "      <td>9888</td>\n",
       "      <td>2024-07-13</td>\n",
       "      <td>35.000000</td>\n",
       "      <td>male</td>\n",
       "      <td>gun</td>\n",
       "      <td>Unknown</td>\n",
       "      <td>Easley</td>\n",
       "      <td>SC</td>\n",
       "      <td>not</td>\n",
       "      <td>False</td>\n",
       "      <td>False</td>\n",
       "      <td>Easley Police Department, SC</td>\n",
       "      <td>2024.0</td>\n",
       "    </tr>\n",
       "    <tr>\n",
       "      <th>8285</th>\n",
       "      <td>9889</td>\n",
       "      <td>2024-07-15</td>\n",
       "      <td>37.409507</td>\n",
       "      <td>male</td>\n",
       "      <td>undetermined</td>\n",
       "      <td>Unknown</td>\n",
       "      <td>Graham</td>\n",
       "      <td>WA</td>\n",
       "      <td>other</td>\n",
       "      <td>False</td>\n",
       "      <td>False</td>\n",
       "      <td>Pierce County Sheriff's Department, WA</td>\n",
       "      <td>2024.0</td>\n",
       "    </tr>\n",
       "    <tr>\n",
       "      <th>8286</th>\n",
       "      <td>9890</td>\n",
       "      <td>2024-07-15</td>\n",
       "      <td>35.000000</td>\n",
       "      <td>male</td>\n",
       "      <td>knife</td>\n",
       "      <td>White</td>\n",
       "      <td>Juneau</td>\n",
       "      <td>AK</td>\n",
       "      <td>foot</td>\n",
       "      <td>False</td>\n",
       "      <td>False</td>\n",
       "      <td>Alaska Wildlife Troopers, AK;Juneau Police Department, AK</td>\n",
       "      <td>2024.0</td>\n",
       "    </tr>\n",
       "    <tr>\n",
       "      <th>8287</th>\n",
       "      <td>9891</td>\n",
       "      <td>2024-07-15</td>\n",
       "      <td>68.000000</td>\n",
       "      <td>male</td>\n",
       "      <td>replica</td>\n",
       "      <td>White</td>\n",
       "      <td>Beaumont</td>\n",
       "      <td>TX</td>\n",
       "      <td>not</td>\n",
       "      <td>False</td>\n",
       "      <td>True</td>\n",
       "      <td>Beaumont Police Department, TX</td>\n",
       "      <td>2024.0</td>\n",
       "    </tr>\n",
       "  </tbody>\n",
       "</table>\n",
       "<p>8288 rows × 13 columns</p>\n",
       "</div>"
      ],
      "text/plain": [
       "      Unnamed: 0     date        age    gender     armed        race    \\\n",
       "0           0     2015-01-02  47.000000  male            gun     White   \n",
       "1           1     2015-01-02  53.000000  male            gun     Asian   \n",
       "2           2     2015-01-03  23.000000  male        unarmed  Hispanic   \n",
       "3           3     2015-01-04  18.000000  male            gun     White   \n",
       "4           4     2015-01-04  39.000000  male          other  Hispanic   \n",
       "...          ...         ...        ...    ...           ...       ...   \n",
       "8283     9887     2024-07-13  35.000000  male          knife   Unknown   \n",
       "8284     9888     2024-07-13  35.000000  male            gun   Unknown   \n",
       "8285     9889     2024-07-15  37.409507  male   undetermined   Unknown   \n",
       "8286     9890     2024-07-15  35.000000  male          knife     White   \n",
       "8287     9891     2024-07-15  68.000000  male        replica     White   \n",
       "\n",
       "         city    state  flee   body_camera  signs_of_mental_illness  \\\n",
       "0          Aloha   OR     not     False              False            \n",
       "1        Shelton   WA     not     False               True            \n",
       "2        Wichita   KS     not     False              False            \n",
       "3        Guthrie   OK     not     False              False            \n",
       "4          Evans   CO     not     False              False            \n",
       "...          ...   ...    ...          ...                      ...   \n",
       "8283  Tuscaloosa   AL     not     False              False            \n",
       "8284      Easley   SC     not     False              False            \n",
       "8285      Graham   WA   other     False              False            \n",
       "8286      Juneau   AK    foot     False              False            \n",
       "8287    Beaumont   TX     not     False               True            \n",
       "\n",
       "                    police_departments_involved                   year   \n",
       "0                        Washington County Sheriff's Office, OR  2015.0  \n",
       "1                             Mason County Sheriff's Office, WA  2015.0  \n",
       "2                                 Wichita Police Department, KS  2015.0  \n",
       "3                                   Oklahoma Highway Patrol, OK  2015.0  \n",
       "4                                   Evans Police Department, CO  2015.0  \n",
       "...                                                         ...     ...  \n",
       "8283                           Tuscaloosa Police Department, AL  2024.0  \n",
       "8284                               Easley Police Department, SC  2024.0  \n",
       "8285                     Pierce County Sheriff's Department, WA  2024.0  \n",
       "8286  Alaska Wildlife Troopers, AK;Juneau Police Department, AK  2024.0  \n",
       "8287                             Beaumont Police Department, TX  2024.0  \n",
       "\n",
       "[8288 rows x 13 columns]"
      ]
     },
     "execution_count": 63,
     "metadata": {},
     "output_type": "execute_result"
    }
   ],
   "source": [
    "df = pd.read_csv(\"washington-post-police-shootings-Analysis.csv\")\n",
    "df"
   ]
  },
  {
   "cell_type": "markdown",
   "metadata": {},
   "source": [
    "#### let's scale our target varibale armed"
   ]
  },
  {
   "cell_type": "code",
   "execution_count": 64,
   "metadata": {},
   "outputs": [],
   "source": [
    "def temp_f(df):\n",
    "    if df=='No_Data':\n",
    "        return 'No_Data'\n",
    "    else :\n",
    "        return 'armed'\n"
   ]
  },
  {
   "cell_type": "code",
   "execution_count": 65,
   "metadata": {},
   "outputs": [],
   "source": [
    "df['armed'] = np.where(df['armed'] == 'unarmed', 'unarmed',\n",
    "                       np.where(df['armed'] == 'No_Data', 'No_Data', 'armed'))"
   ]
  },
  {
   "cell_type": "code",
   "execution_count": 66,
   "metadata": {},
   "outputs": [
    {
     "data": {
      "text/plain": [
       "array(['armed', 'unarmed'], dtype=object)"
      ]
     },
     "execution_count": 66,
     "metadata": {},
     "output_type": "execute_result"
    }
   ],
   "source": [
    "df['armed'].unique()"
   ]
  },
  {
   "cell_type": "code",
   "execution_count": 67,
   "metadata": {},
   "outputs": [
    {
     "data": {
      "text/html": [
       "<div>\n",
       "<style scoped>\n",
       "    .dataframe tbody tr th:only-of-type {\n",
       "        vertical-align: middle;\n",
       "    }\n",
       "\n",
       "    .dataframe tbody tr th {\n",
       "        vertical-align: top;\n",
       "    }\n",
       "\n",
       "    .dataframe thead th {\n",
       "        text-align: right;\n",
       "    }\n",
       "</style>\n",
       "<table border=\"1\" class=\"dataframe\">\n",
       "  <thead>\n",
       "    <tr style=\"text-align: center;\">\n",
       "      <th></th>\n",
       "      <th>Unnamed: 0</th>\n",
       "      <th>date</th>\n",
       "      <th>age</th>\n",
       "      <th>gender</th>\n",
       "      <th>armed</th>\n",
       "      <th>race</th>\n",
       "      <th>city</th>\n",
       "      <th>state</th>\n",
       "      <th>flee</th>\n",
       "      <th>body_camera</th>\n",
       "      <th>signs_of_mental_illness</th>\n",
       "      <th>police_departments_involved</th>\n",
       "      <th>year</th>\n",
       "    </tr>\n",
       "  </thead>\n",
       "  <tbody>\n",
       "    <tr>\n",
       "      <th>0</th>\n",
       "      <td>0</td>\n",
       "      <td>2015-01-02</td>\n",
       "      <td>47.000000</td>\n",
       "      <td>male</td>\n",
       "      <td>armed</td>\n",
       "      <td>White</td>\n",
       "      <td>Aloha</td>\n",
       "      <td>OR</td>\n",
       "      <td>not</td>\n",
       "      <td>False</td>\n",
       "      <td>False</td>\n",
       "      <td>Washington County Sheriff's Office, OR</td>\n",
       "      <td>2015.0</td>\n",
       "    </tr>\n",
       "    <tr>\n",
       "      <th>1</th>\n",
       "      <td>1</td>\n",
       "      <td>2015-01-02</td>\n",
       "      <td>53.000000</td>\n",
       "      <td>male</td>\n",
       "      <td>armed</td>\n",
       "      <td>Asian</td>\n",
       "      <td>Shelton</td>\n",
       "      <td>WA</td>\n",
       "      <td>not</td>\n",
       "      <td>False</td>\n",
       "      <td>True</td>\n",
       "      <td>Mason County Sheriff's Office, WA</td>\n",
       "      <td>2015.0</td>\n",
       "    </tr>\n",
       "    <tr>\n",
       "      <th>2</th>\n",
       "      <td>2</td>\n",
       "      <td>2015-01-03</td>\n",
       "      <td>23.000000</td>\n",
       "      <td>male</td>\n",
       "      <td>unarmed</td>\n",
       "      <td>Hispanic</td>\n",
       "      <td>Wichita</td>\n",
       "      <td>KS</td>\n",
       "      <td>not</td>\n",
       "      <td>False</td>\n",
       "      <td>False</td>\n",
       "      <td>Wichita Police Department, KS</td>\n",
       "      <td>2015.0</td>\n",
       "    </tr>\n",
       "    <tr>\n",
       "      <th>3</th>\n",
       "      <td>3</td>\n",
       "      <td>2015-01-04</td>\n",
       "      <td>18.000000</td>\n",
       "      <td>male</td>\n",
       "      <td>armed</td>\n",
       "      <td>White</td>\n",
       "      <td>Guthrie</td>\n",
       "      <td>OK</td>\n",
       "      <td>not</td>\n",
       "      <td>False</td>\n",
       "      <td>False</td>\n",
       "      <td>Oklahoma Highway Patrol, OK</td>\n",
       "      <td>2015.0</td>\n",
       "    </tr>\n",
       "    <tr>\n",
       "      <th>4</th>\n",
       "      <td>4</td>\n",
       "      <td>2015-01-04</td>\n",
       "      <td>39.000000</td>\n",
       "      <td>male</td>\n",
       "      <td>armed</td>\n",
       "      <td>Hispanic</td>\n",
       "      <td>Evans</td>\n",
       "      <td>CO</td>\n",
       "      <td>not</td>\n",
       "      <td>False</td>\n",
       "      <td>False</td>\n",
       "      <td>Evans Police Department, CO</td>\n",
       "      <td>2015.0</td>\n",
       "    </tr>\n",
       "    <tr>\n",
       "      <th>...</th>\n",
       "      <td>...</td>\n",
       "      <td>...</td>\n",
       "      <td>...</td>\n",
       "      <td>...</td>\n",
       "      <td>...</td>\n",
       "      <td>...</td>\n",
       "      <td>...</td>\n",
       "      <td>...</td>\n",
       "      <td>...</td>\n",
       "      <td>...</td>\n",
       "      <td>...</td>\n",
       "      <td>...</td>\n",
       "      <td>...</td>\n",
       "    </tr>\n",
       "    <tr>\n",
       "      <th>8283</th>\n",
       "      <td>9887</td>\n",
       "      <td>2024-07-13</td>\n",
       "      <td>35.000000</td>\n",
       "      <td>male</td>\n",
       "      <td>armed</td>\n",
       "      <td>Unknown</td>\n",
       "      <td>Tuscaloosa</td>\n",
       "      <td>AL</td>\n",
       "      <td>not</td>\n",
       "      <td>False</td>\n",
       "      <td>False</td>\n",
       "      <td>Tuscaloosa Police Department, AL</td>\n",
       "      <td>2024.0</td>\n",
       "    </tr>\n",
       "    <tr>\n",
       "      <th>8284</th>\n",
       "      <td>9888</td>\n",
       "      <td>2024-07-13</td>\n",
       "      <td>35.000000</td>\n",
       "      <td>male</td>\n",
       "      <td>armed</td>\n",
       "      <td>Unknown</td>\n",
       "      <td>Easley</td>\n",
       "      <td>SC</td>\n",
       "      <td>not</td>\n",
       "      <td>False</td>\n",
       "      <td>False</td>\n",
       "      <td>Easley Police Department, SC</td>\n",
       "      <td>2024.0</td>\n",
       "    </tr>\n",
       "    <tr>\n",
       "      <th>8285</th>\n",
       "      <td>9889</td>\n",
       "      <td>2024-07-15</td>\n",
       "      <td>37.409507</td>\n",
       "      <td>male</td>\n",
       "      <td>armed</td>\n",
       "      <td>Unknown</td>\n",
       "      <td>Graham</td>\n",
       "      <td>WA</td>\n",
       "      <td>other</td>\n",
       "      <td>False</td>\n",
       "      <td>False</td>\n",
       "      <td>Pierce County Sheriff's Department, WA</td>\n",
       "      <td>2024.0</td>\n",
       "    </tr>\n",
       "    <tr>\n",
       "      <th>8286</th>\n",
       "      <td>9890</td>\n",
       "      <td>2024-07-15</td>\n",
       "      <td>35.000000</td>\n",
       "      <td>male</td>\n",
       "      <td>armed</td>\n",
       "      <td>White</td>\n",
       "      <td>Juneau</td>\n",
       "      <td>AK</td>\n",
       "      <td>foot</td>\n",
       "      <td>False</td>\n",
       "      <td>False</td>\n",
       "      <td>Alaska Wildlife Troopers, AK;Juneau Police Department, AK</td>\n",
       "      <td>2024.0</td>\n",
       "    </tr>\n",
       "    <tr>\n",
       "      <th>8287</th>\n",
       "      <td>9891</td>\n",
       "      <td>2024-07-15</td>\n",
       "      <td>68.000000</td>\n",
       "      <td>male</td>\n",
       "      <td>armed</td>\n",
       "      <td>White</td>\n",
       "      <td>Beaumont</td>\n",
       "      <td>TX</td>\n",
       "      <td>not</td>\n",
       "      <td>False</td>\n",
       "      <td>True</td>\n",
       "      <td>Beaumont Police Department, TX</td>\n",
       "      <td>2024.0</td>\n",
       "    </tr>\n",
       "  </tbody>\n",
       "</table>\n",
       "<p>8288 rows × 13 columns</p>\n",
       "</div>"
      ],
      "text/plain": [
       "      Unnamed: 0     date        age    gender  armed      race       city     \\\n",
       "0           0     2015-01-02  47.000000  male     armed     White       Aloha   \n",
       "1           1     2015-01-02  53.000000  male     armed     Asian     Shelton   \n",
       "2           2     2015-01-03  23.000000  male   unarmed  Hispanic     Wichita   \n",
       "3           3     2015-01-04  18.000000  male     armed     White     Guthrie   \n",
       "4           4     2015-01-04  39.000000  male     armed  Hispanic       Evans   \n",
       "...          ...         ...        ...    ...      ...       ...         ...   \n",
       "8283     9887     2024-07-13  35.000000  male     armed   Unknown  Tuscaloosa   \n",
       "8284     9888     2024-07-13  35.000000  male     armed   Unknown      Easley   \n",
       "8285     9889     2024-07-15  37.409507  male     armed   Unknown      Graham   \n",
       "8286     9890     2024-07-15  35.000000  male     armed     White      Juneau   \n",
       "8287     9891     2024-07-15  68.000000  male     armed     White    Beaumont   \n",
       "\n",
       "     state  flee   body_camera  signs_of_mental_illness  \\\n",
       "0      OR     not     False              False            \n",
       "1      WA     not     False               True            \n",
       "2      KS     not     False              False            \n",
       "3      OK     not     False              False            \n",
       "4      CO     not     False              False            \n",
       "...    ...    ...          ...                      ...   \n",
       "8283   AL     not     False              False            \n",
       "8284   SC     not     False              False            \n",
       "8285   WA   other     False              False            \n",
       "8286   AK    foot     False              False            \n",
       "8287   TX     not     False               True            \n",
       "\n",
       "                    police_departments_involved                   year   \n",
       "0                        Washington County Sheriff's Office, OR  2015.0  \n",
       "1                             Mason County Sheriff's Office, WA  2015.0  \n",
       "2                                 Wichita Police Department, KS  2015.0  \n",
       "3                                   Oklahoma Highway Patrol, OK  2015.0  \n",
       "4                                   Evans Police Department, CO  2015.0  \n",
       "...                                                         ...     ...  \n",
       "8283                           Tuscaloosa Police Department, AL  2024.0  \n",
       "8284                               Easley Police Department, SC  2024.0  \n",
       "8285                     Pierce County Sheriff's Department, WA  2024.0  \n",
       "8286  Alaska Wildlife Troopers, AK;Juneau Police Department, AK  2024.0  \n",
       "8287                             Beaumont Police Department, TX  2024.0  \n",
       "\n",
       "[8288 rows x 13 columns]"
      ]
     },
     "execution_count": 67,
     "metadata": {},
     "output_type": "execute_result"
    }
   ],
   "source": [
    "df"
   ]
  },
  {
   "cell_type": "code",
   "execution_count": 68,
   "metadata": {},
   "outputs": [
    {
     "data": {
      "text/plain": [
       "array(['not', 'car', 'foot', 'other'], dtype=object)"
      ]
     },
     "execution_count": 68,
     "metadata": {},
     "output_type": "execute_result"
    }
   ],
   "source": [
    "df.flee.unique()"
   ]
  },
  {
   "cell_type": "code",
   "execution_count": 69,
   "metadata": {},
   "outputs": [],
   "source": [
    "df['flee'] = np.where(df['flee']=='not','No',\n",
    "                      np.where(df['flee']=='No_Data',\"No_Data\",\"Yes\"))"
   ]
  },
  {
   "cell_type": "code",
   "execution_count": 70,
   "metadata": {},
   "outputs": [],
   "source": [
    "df = df.drop('Unnamed: 0',axis='columns')"
   ]
  },
  {
   "cell_type": "markdown",
   "metadata": {},
   "source": [
    "# Feature Binning"
   ]
  },
  {
   "cell_type": "code",
   "execution_count": 71,
   "metadata": {},
   "outputs": [
    {
     "data": {
      "text/html": [
       "<div>\n",
       "<style scoped>\n",
       "    .dataframe tbody tr th:only-of-type {\n",
       "        vertical-align: middle;\n",
       "    }\n",
       "\n",
       "    .dataframe tbody tr th {\n",
       "        vertical-align: top;\n",
       "    }\n",
       "\n",
       "    .dataframe thead th {\n",
       "        text-align: right;\n",
       "    }\n",
       "</style>\n",
       "<table border=\"1\" class=\"dataframe\">\n",
       "  <thead>\n",
       "    <tr style=\"text-align: center;\">\n",
       "      <th></th>\n",
       "      <th>date</th>\n",
       "      <th>age</th>\n",
       "      <th>gender</th>\n",
       "      <th>armed</th>\n",
       "      <th>race</th>\n",
       "      <th>city</th>\n",
       "      <th>state</th>\n",
       "      <th>flee</th>\n",
       "      <th>body_camera</th>\n",
       "      <th>signs_of_mental_illness</th>\n",
       "      <th>police_departments_involved</th>\n",
       "      <th>year</th>\n",
       "    </tr>\n",
       "  </thead>\n",
       "  <tbody>\n",
       "    <tr>\n",
       "      <th>0</th>\n",
       "      <td>2015-01-02</td>\n",
       "      <td>47.000000</td>\n",
       "      <td>male</td>\n",
       "      <td>armed</td>\n",
       "      <td>White</td>\n",
       "      <td>Aloha</td>\n",
       "      <td>OR</td>\n",
       "      <td>No</td>\n",
       "      <td>False</td>\n",
       "      <td>False</td>\n",
       "      <td>Washington County Sheriff's Office, OR</td>\n",
       "      <td>2015.0</td>\n",
       "    </tr>\n",
       "    <tr>\n",
       "      <th>1</th>\n",
       "      <td>2015-01-02</td>\n",
       "      <td>53.000000</td>\n",
       "      <td>male</td>\n",
       "      <td>armed</td>\n",
       "      <td>Asian</td>\n",
       "      <td>Shelton</td>\n",
       "      <td>WA</td>\n",
       "      <td>No</td>\n",
       "      <td>False</td>\n",
       "      <td>True</td>\n",
       "      <td>Mason County Sheriff's Office, WA</td>\n",
       "      <td>2015.0</td>\n",
       "    </tr>\n",
       "    <tr>\n",
       "      <th>2</th>\n",
       "      <td>2015-01-03</td>\n",
       "      <td>23.000000</td>\n",
       "      <td>male</td>\n",
       "      <td>unarmed</td>\n",
       "      <td>Hispanic</td>\n",
       "      <td>Wichita</td>\n",
       "      <td>KS</td>\n",
       "      <td>No</td>\n",
       "      <td>False</td>\n",
       "      <td>False</td>\n",
       "      <td>Wichita Police Department, KS</td>\n",
       "      <td>2015.0</td>\n",
       "    </tr>\n",
       "    <tr>\n",
       "      <th>3</th>\n",
       "      <td>2015-01-04</td>\n",
       "      <td>18.000000</td>\n",
       "      <td>male</td>\n",
       "      <td>armed</td>\n",
       "      <td>White</td>\n",
       "      <td>Guthrie</td>\n",
       "      <td>OK</td>\n",
       "      <td>No</td>\n",
       "      <td>False</td>\n",
       "      <td>False</td>\n",
       "      <td>Oklahoma Highway Patrol, OK</td>\n",
       "      <td>2015.0</td>\n",
       "    </tr>\n",
       "    <tr>\n",
       "      <th>4</th>\n",
       "      <td>2015-01-04</td>\n",
       "      <td>39.000000</td>\n",
       "      <td>male</td>\n",
       "      <td>armed</td>\n",
       "      <td>Hispanic</td>\n",
       "      <td>Evans</td>\n",
       "      <td>CO</td>\n",
       "      <td>No</td>\n",
       "      <td>False</td>\n",
       "      <td>False</td>\n",
       "      <td>Evans Police Department, CO</td>\n",
       "      <td>2015.0</td>\n",
       "    </tr>\n",
       "    <tr>\n",
       "      <th>...</th>\n",
       "      <td>...</td>\n",
       "      <td>...</td>\n",
       "      <td>...</td>\n",
       "      <td>...</td>\n",
       "      <td>...</td>\n",
       "      <td>...</td>\n",
       "      <td>...</td>\n",
       "      <td>...</td>\n",
       "      <td>...</td>\n",
       "      <td>...</td>\n",
       "      <td>...</td>\n",
       "      <td>...</td>\n",
       "    </tr>\n",
       "    <tr>\n",
       "      <th>8283</th>\n",
       "      <td>2024-07-13</td>\n",
       "      <td>35.000000</td>\n",
       "      <td>male</td>\n",
       "      <td>armed</td>\n",
       "      <td>Unknown</td>\n",
       "      <td>Tuscaloosa</td>\n",
       "      <td>AL</td>\n",
       "      <td>No</td>\n",
       "      <td>False</td>\n",
       "      <td>False</td>\n",
       "      <td>Tuscaloosa Police Department, AL</td>\n",
       "      <td>2024.0</td>\n",
       "    </tr>\n",
       "    <tr>\n",
       "      <th>8284</th>\n",
       "      <td>2024-07-13</td>\n",
       "      <td>35.000000</td>\n",
       "      <td>male</td>\n",
       "      <td>armed</td>\n",
       "      <td>Unknown</td>\n",
       "      <td>Easley</td>\n",
       "      <td>SC</td>\n",
       "      <td>No</td>\n",
       "      <td>False</td>\n",
       "      <td>False</td>\n",
       "      <td>Easley Police Department, SC</td>\n",
       "      <td>2024.0</td>\n",
       "    </tr>\n",
       "    <tr>\n",
       "      <th>8285</th>\n",
       "      <td>2024-07-15</td>\n",
       "      <td>37.409507</td>\n",
       "      <td>male</td>\n",
       "      <td>armed</td>\n",
       "      <td>Unknown</td>\n",
       "      <td>Graham</td>\n",
       "      <td>WA</td>\n",
       "      <td>Yes</td>\n",
       "      <td>False</td>\n",
       "      <td>False</td>\n",
       "      <td>Pierce County Sheriff's Department, WA</td>\n",
       "      <td>2024.0</td>\n",
       "    </tr>\n",
       "    <tr>\n",
       "      <th>8286</th>\n",
       "      <td>2024-07-15</td>\n",
       "      <td>35.000000</td>\n",
       "      <td>male</td>\n",
       "      <td>armed</td>\n",
       "      <td>White</td>\n",
       "      <td>Juneau</td>\n",
       "      <td>AK</td>\n",
       "      <td>Yes</td>\n",
       "      <td>False</td>\n",
       "      <td>False</td>\n",
       "      <td>Alaska Wildlife Troopers, AK;Juneau Police Department, AK</td>\n",
       "      <td>2024.0</td>\n",
       "    </tr>\n",
       "    <tr>\n",
       "      <th>8287</th>\n",
       "      <td>2024-07-15</td>\n",
       "      <td>68.000000</td>\n",
       "      <td>male</td>\n",
       "      <td>armed</td>\n",
       "      <td>White</td>\n",
       "      <td>Beaumont</td>\n",
       "      <td>TX</td>\n",
       "      <td>No</td>\n",
       "      <td>False</td>\n",
       "      <td>True</td>\n",
       "      <td>Beaumont Police Department, TX</td>\n",
       "      <td>2024.0</td>\n",
       "    </tr>\n",
       "  </tbody>\n",
       "</table>\n",
       "<p>8288 rows × 12 columns</p>\n",
       "</div>"
      ],
      "text/plain": [
       "         date        age    gender  armed      race       city    state flee  \\\n",
       "0     2015-01-02  47.000000  male     armed     White       Aloha   OR    No   \n",
       "1     2015-01-02  53.000000  male     armed     Asian     Shelton   WA    No   \n",
       "2     2015-01-03  23.000000  male   unarmed  Hispanic     Wichita   KS    No   \n",
       "3     2015-01-04  18.000000  male     armed     White     Guthrie   OK    No   \n",
       "4     2015-01-04  39.000000  male     armed  Hispanic       Evans   CO    No   \n",
       "...          ...        ...    ...      ...       ...         ...   ...  ...   \n",
       "8283  2024-07-13  35.000000  male     armed   Unknown  Tuscaloosa   AL    No   \n",
       "8284  2024-07-13  35.000000  male     armed   Unknown      Easley   SC    No   \n",
       "8285  2024-07-15  37.409507  male     armed   Unknown      Graham   WA   Yes   \n",
       "8286  2024-07-15  35.000000  male     armed     White      Juneau   AK   Yes   \n",
       "8287  2024-07-15  68.000000  male     armed     White    Beaumont   TX    No   \n",
       "\n",
       "      body_camera  signs_of_mental_illness  \\\n",
       "0        False              False            \n",
       "1        False               True            \n",
       "2        False              False            \n",
       "3        False              False            \n",
       "4        False              False            \n",
       "...           ...                      ...   \n",
       "8283     False              False            \n",
       "8284     False              False            \n",
       "8285     False              False            \n",
       "8286     False              False            \n",
       "8287     False               True            \n",
       "\n",
       "                    police_departments_involved                   year   \n",
       "0                        Washington County Sheriff's Office, OR  2015.0  \n",
       "1                             Mason County Sheriff's Office, WA  2015.0  \n",
       "2                                 Wichita Police Department, KS  2015.0  \n",
       "3                                   Oklahoma Highway Patrol, OK  2015.0  \n",
       "4                                   Evans Police Department, CO  2015.0  \n",
       "...                                                         ...     ...  \n",
       "8283                           Tuscaloosa Police Department, AL  2024.0  \n",
       "8284                               Easley Police Department, SC  2024.0  \n",
       "8285                     Pierce County Sheriff's Department, WA  2024.0  \n",
       "8286  Alaska Wildlife Troopers, AK;Juneau Police Department, AK  2024.0  \n",
       "8287                             Beaumont Police Department, TX  2024.0  \n",
       "\n",
       "[8288 rows x 12 columns]"
      ]
     },
     "execution_count": 71,
     "metadata": {},
     "output_type": "execute_result"
    }
   ],
   "source": [
    "df_f = df.copy()\n",
    "df_f"
   ]
  },
  {
   "cell_type": "code",
   "execution_count": 72,
   "metadata": {},
   "outputs": [],
   "source": [
    "# for years\n",
    "# lets create labels\n",
    "labels = ['2015-2016','2016-2017','2017-2018','2018-2019','2019-2020','2020-2021','2021-2022','2022-2023','2023-2024']\n",
    "bins = [2015,2016,2017,2018,2019,2020,2021,2022,2023,2024]\n",
    "\n",
    "df_f['Year_Bins'] = pd.cut(df_f.year,bins,labels=labels,include_lowest=True)"
   ]
  },
  {
   "cell_type": "code",
   "execution_count": 73,
   "metadata": {},
   "outputs": [],
   "source": [
    "# Drop multiple columns\n",
    "df_f = df_f.drop(columns=['date', 'year'])\n"
   ]
  },
  {
   "cell_type": "code",
   "execution_count": 74,
   "metadata": {},
   "outputs": [],
   "source": [
    "# lets create labels\n",
    "labels = ['0-10','11-20','21-30','31-40','41-50','51-60','61-70','71-80','81-90','Above 90']\n",
    "bins = [0,10,20,30,40,50,60,70,80,90,100]\n",
    "\n",
    "df_f['Age_Bins'] = pd.cut(df_f.age,bins,labels=labels,include_lowest=True)"
   ]
  },
  {
   "cell_type": "code",
   "execution_count": 75,
   "metadata": {},
   "outputs": [],
   "source": [
    "df_f = df_f.drop(columns=['age'])\n"
   ]
  },
  {
   "cell_type": "code",
   "execution_count": 76,
   "metadata": {},
   "outputs": [
    {
     "data": {
      "text/html": [
       "<div>\n",
       "<style scoped>\n",
       "    .dataframe tbody tr th:only-of-type {\n",
       "        vertical-align: middle;\n",
       "    }\n",
       "\n",
       "    .dataframe tbody tr th {\n",
       "        vertical-align: top;\n",
       "    }\n",
       "\n",
       "    .dataframe thead th {\n",
       "        text-align: right;\n",
       "    }\n",
       "</style>\n",
       "<table border=\"1\" class=\"dataframe\">\n",
       "  <thead>\n",
       "    <tr style=\"text-align: center;\">\n",
       "      <th></th>\n",
       "      <th>gender</th>\n",
       "      <th>armed</th>\n",
       "      <th>race</th>\n",
       "      <th>city</th>\n",
       "      <th>state</th>\n",
       "      <th>flee</th>\n",
       "      <th>body_camera</th>\n",
       "      <th>signs_of_mental_illness</th>\n",
       "      <th>police_departments_involved</th>\n",
       "      <th>Year_Bins</th>\n",
       "      <th>Age_Bins</th>\n",
       "    </tr>\n",
       "  </thead>\n",
       "  <tbody>\n",
       "    <tr>\n",
       "      <th>0</th>\n",
       "      <td>male</td>\n",
       "      <td>armed</td>\n",
       "      <td>White</td>\n",
       "      <td>Aloha</td>\n",
       "      <td>OR</td>\n",
       "      <td>No</td>\n",
       "      <td>False</td>\n",
       "      <td>False</td>\n",
       "      <td>Washington County Sheriff's Office, OR</td>\n",
       "      <td>2015-2016</td>\n",
       "      <td>41-50</td>\n",
       "    </tr>\n",
       "    <tr>\n",
       "      <th>1</th>\n",
       "      <td>male</td>\n",
       "      <td>armed</td>\n",
       "      <td>Asian</td>\n",
       "      <td>Shelton</td>\n",
       "      <td>WA</td>\n",
       "      <td>No</td>\n",
       "      <td>False</td>\n",
       "      <td>True</td>\n",
       "      <td>Mason County Sheriff's Office, WA</td>\n",
       "      <td>2015-2016</td>\n",
       "      <td>51-60</td>\n",
       "    </tr>\n",
       "    <tr>\n",
       "      <th>2</th>\n",
       "      <td>male</td>\n",
       "      <td>unarmed</td>\n",
       "      <td>Hispanic</td>\n",
       "      <td>Wichita</td>\n",
       "      <td>KS</td>\n",
       "      <td>No</td>\n",
       "      <td>False</td>\n",
       "      <td>False</td>\n",
       "      <td>Wichita Police Department, KS</td>\n",
       "      <td>2015-2016</td>\n",
       "      <td>21-30</td>\n",
       "    </tr>\n",
       "    <tr>\n",
       "      <th>3</th>\n",
       "      <td>male</td>\n",
       "      <td>armed</td>\n",
       "      <td>White</td>\n",
       "      <td>Guthrie</td>\n",
       "      <td>OK</td>\n",
       "      <td>No</td>\n",
       "      <td>False</td>\n",
       "      <td>False</td>\n",
       "      <td>Oklahoma Highway Patrol, OK</td>\n",
       "      <td>2015-2016</td>\n",
       "      <td>11-20</td>\n",
       "    </tr>\n",
       "    <tr>\n",
       "      <th>4</th>\n",
       "      <td>male</td>\n",
       "      <td>armed</td>\n",
       "      <td>Hispanic</td>\n",
       "      <td>Evans</td>\n",
       "      <td>CO</td>\n",
       "      <td>No</td>\n",
       "      <td>False</td>\n",
       "      <td>False</td>\n",
       "      <td>Evans Police Department, CO</td>\n",
       "      <td>2015-2016</td>\n",
       "      <td>31-40</td>\n",
       "    </tr>\n",
       "    <tr>\n",
       "      <th>...</th>\n",
       "      <td>...</td>\n",
       "      <td>...</td>\n",
       "      <td>...</td>\n",
       "      <td>...</td>\n",
       "      <td>...</td>\n",
       "      <td>...</td>\n",
       "      <td>...</td>\n",
       "      <td>...</td>\n",
       "      <td>...</td>\n",
       "      <td>...</td>\n",
       "      <td>...</td>\n",
       "    </tr>\n",
       "    <tr>\n",
       "      <th>8283</th>\n",
       "      <td>male</td>\n",
       "      <td>armed</td>\n",
       "      <td>Unknown</td>\n",
       "      <td>Tuscaloosa</td>\n",
       "      <td>AL</td>\n",
       "      <td>No</td>\n",
       "      <td>False</td>\n",
       "      <td>False</td>\n",
       "      <td>Tuscaloosa Police Department, AL</td>\n",
       "      <td>2023-2024</td>\n",
       "      <td>31-40</td>\n",
       "    </tr>\n",
       "    <tr>\n",
       "      <th>8284</th>\n",
       "      <td>male</td>\n",
       "      <td>armed</td>\n",
       "      <td>Unknown</td>\n",
       "      <td>Easley</td>\n",
       "      <td>SC</td>\n",
       "      <td>No</td>\n",
       "      <td>False</td>\n",
       "      <td>False</td>\n",
       "      <td>Easley Police Department, SC</td>\n",
       "      <td>2023-2024</td>\n",
       "      <td>31-40</td>\n",
       "    </tr>\n",
       "    <tr>\n",
       "      <th>8285</th>\n",
       "      <td>male</td>\n",
       "      <td>armed</td>\n",
       "      <td>Unknown</td>\n",
       "      <td>Graham</td>\n",
       "      <td>WA</td>\n",
       "      <td>Yes</td>\n",
       "      <td>False</td>\n",
       "      <td>False</td>\n",
       "      <td>Pierce County Sheriff's Department, WA</td>\n",
       "      <td>2023-2024</td>\n",
       "      <td>31-40</td>\n",
       "    </tr>\n",
       "    <tr>\n",
       "      <th>8286</th>\n",
       "      <td>male</td>\n",
       "      <td>armed</td>\n",
       "      <td>White</td>\n",
       "      <td>Juneau</td>\n",
       "      <td>AK</td>\n",
       "      <td>Yes</td>\n",
       "      <td>False</td>\n",
       "      <td>False</td>\n",
       "      <td>Alaska Wildlife Troopers, AK;Juneau Police Department, AK</td>\n",
       "      <td>2023-2024</td>\n",
       "      <td>31-40</td>\n",
       "    </tr>\n",
       "    <tr>\n",
       "      <th>8287</th>\n",
       "      <td>male</td>\n",
       "      <td>armed</td>\n",
       "      <td>White</td>\n",
       "      <td>Beaumont</td>\n",
       "      <td>TX</td>\n",
       "      <td>No</td>\n",
       "      <td>False</td>\n",
       "      <td>True</td>\n",
       "      <td>Beaumont Police Department, TX</td>\n",
       "      <td>2023-2024</td>\n",
       "      <td>61-70</td>\n",
       "    </tr>\n",
       "  </tbody>\n",
       "</table>\n",
       "<p>8288 rows × 11 columns</p>\n",
       "</div>"
      ],
      "text/plain": [
       "     gender  armed      race       city    state flee  body_camera  \\\n",
       "0     male     armed     White       Aloha   OR    No     False      \n",
       "1     male     armed     Asian     Shelton   WA    No     False      \n",
       "2     male   unarmed  Hispanic     Wichita   KS    No     False      \n",
       "3     male     armed     White     Guthrie   OK    No     False      \n",
       "4     male     armed  Hispanic       Evans   CO    No     False      \n",
       "...     ...      ...       ...         ...   ...  ...          ...   \n",
       "8283  male     armed   Unknown  Tuscaloosa   AL    No     False      \n",
       "8284  male     armed   Unknown      Easley   SC    No     False      \n",
       "8285  male     armed   Unknown      Graham   WA   Yes     False      \n",
       "8286  male     armed     White      Juneau   AK   Yes     False      \n",
       "8287  male     armed     White    Beaumont   TX    No     False      \n",
       "\n",
       "      signs_of_mental_illness  \\\n",
       "0              False            \n",
       "1               True            \n",
       "2              False            \n",
       "3              False            \n",
       "4              False            \n",
       "...                       ...   \n",
       "8283           False            \n",
       "8284           False            \n",
       "8285           False            \n",
       "8286           False            \n",
       "8287            True            \n",
       "\n",
       "                    police_departments_involved                 Year_Bins   \\\n",
       "0                        Washington County Sheriff's Office, OR  2015-2016   \n",
       "1                             Mason County Sheriff's Office, WA  2015-2016   \n",
       "2                                 Wichita Police Department, KS  2015-2016   \n",
       "3                                   Oklahoma Highway Patrol, OK  2015-2016   \n",
       "4                                   Evans Police Department, CO  2015-2016   \n",
       "...                                                         ...        ...   \n",
       "8283                           Tuscaloosa Police Department, AL  2023-2024   \n",
       "8284                               Easley Police Department, SC  2023-2024   \n",
       "8285                     Pierce County Sheriff's Department, WA  2023-2024   \n",
       "8286  Alaska Wildlife Troopers, AK;Juneau Police Department, AK  2023-2024   \n",
       "8287                             Beaumont Police Department, TX  2023-2024   \n",
       "\n",
       "     Age_Bins  \n",
       "0      41-50   \n",
       "1      51-60   \n",
       "2      21-30   \n",
       "3      11-20   \n",
       "4      31-40   \n",
       "...       ...  \n",
       "8283   31-40   \n",
       "8284   31-40   \n",
       "8285   31-40   \n",
       "8286   31-40   \n",
       "8287   61-70   \n",
       "\n",
       "[8288 rows x 11 columns]"
      ]
     },
     "execution_count": 76,
     "metadata": {},
     "output_type": "execute_result"
    }
   ],
   "source": [
    "df_f"
   ]
  },
  {
   "cell_type": "code",
   "execution_count": 77,
   "metadata": {},
   "outputs": [],
   "source": []
  },
  {
   "cell_type": "code",
   "execution_count": 78,
   "metadata": {},
   "outputs": [],
   "source": []
  },
  {
   "cell_type": "code",
   "execution_count": 79,
   "metadata": {},
   "outputs": [
    {
     "data": {
      "application/vnd.plotly.v1+json": {
       "config": {
        "plotlyServerURL": "https://plot.ly"
       },
       "data": [
        {
         "domain": {
          "x": [
           0,
           1
          ],
          "y": [
           0,
           1
          ]
         },
         "hovertemplate": "index=%{label}<br>race=%{value}<extra></extra>",
         "labels": [
          "Asian",
          "Black",
          "Black,Hispanic",
          "Hispanic",
          "Native American",
          "Native American,Hispanic",
          "Other",
          "Unknown",
          "White",
          "White,Black",
          "White,Black,Native American"
         ],
         "legendgroup": "",
         "name": "",
         "showlegend": true,
         "type": "pie",
         "values": [
          151,
          2019,
          1,
          1415,
          109,
          1,
          25,
          845,
          3719,
          2,
          1
         ]
        }
       ],
       "layout": {
        "legend": {
         "tracegroupgap": 0
        },
        "template": {
         "data": {
          "bar": [
           {
            "error_x": {
             "color": "#2a3f5f"
            },
            "error_y": {
             "color": "#2a3f5f"
            },
            "marker": {
             "line": {
              "color": "#E5ECF6",
              "width": 0.5
             },
             "pattern": {
              "fillmode": "overlay",
              "size": 10,
              "solidity": 0.2
             }
            },
            "type": "bar"
           }
          ],
          "barpolar": [
           {
            "marker": {
             "line": {
              "color": "#E5ECF6",
              "width": 0.5
             },
             "pattern": {
              "fillmode": "overlay",
              "size": 10,
              "solidity": 0.2
             }
            },
            "type": "barpolar"
           }
          ],
          "carpet": [
           {
            "aaxis": {
             "endlinecolor": "#2a3f5f",
             "gridcolor": "white",
             "linecolor": "white",
             "minorgridcolor": "white",
             "startlinecolor": "#2a3f5f"
            },
            "baxis": {
             "endlinecolor": "#2a3f5f",
             "gridcolor": "white",
             "linecolor": "white",
             "minorgridcolor": "white",
             "startlinecolor": "#2a3f5f"
            },
            "type": "carpet"
           }
          ],
          "choropleth": [
           {
            "colorbar": {
             "outlinewidth": 0,
             "ticks": ""
            },
            "type": "choropleth"
           }
          ],
          "contour": [
           {
            "colorbar": {
             "outlinewidth": 0,
             "ticks": ""
            },
            "colorscale": [
             [
              0,
              "#0d0887"
             ],
             [
              0.1111111111111111,
              "#46039f"
             ],
             [
              0.2222222222222222,
              "#7201a8"
             ],
             [
              0.3333333333333333,
              "#9c179e"
             ],
             [
              0.4444444444444444,
              "#bd3786"
             ],
             [
              0.5555555555555556,
              "#d8576b"
             ],
             [
              0.6666666666666666,
              "#ed7953"
             ],
             [
              0.7777777777777778,
              "#fb9f3a"
             ],
             [
              0.8888888888888888,
              "#fdca26"
             ],
             [
              1,
              "#f0f921"
             ]
            ],
            "type": "contour"
           }
          ],
          "contourcarpet": [
           {
            "colorbar": {
             "outlinewidth": 0,
             "ticks": ""
            },
            "type": "contourcarpet"
           }
          ],
          "heatmap": [
           {
            "colorbar": {
             "outlinewidth": 0,
             "ticks": ""
            },
            "colorscale": [
             [
              0,
              "#0d0887"
             ],
             [
              0.1111111111111111,
              "#46039f"
             ],
             [
              0.2222222222222222,
              "#7201a8"
             ],
             [
              0.3333333333333333,
              "#9c179e"
             ],
             [
              0.4444444444444444,
              "#bd3786"
             ],
             [
              0.5555555555555556,
              "#d8576b"
             ],
             [
              0.6666666666666666,
              "#ed7953"
             ],
             [
              0.7777777777777778,
              "#fb9f3a"
             ],
             [
              0.8888888888888888,
              "#fdca26"
             ],
             [
              1,
              "#f0f921"
             ]
            ],
            "type": "heatmap"
           }
          ],
          "heatmapgl": [
           {
            "colorbar": {
             "outlinewidth": 0,
             "ticks": ""
            },
            "colorscale": [
             [
              0,
              "#0d0887"
             ],
             [
              0.1111111111111111,
              "#46039f"
             ],
             [
              0.2222222222222222,
              "#7201a8"
             ],
             [
              0.3333333333333333,
              "#9c179e"
             ],
             [
              0.4444444444444444,
              "#bd3786"
             ],
             [
              0.5555555555555556,
              "#d8576b"
             ],
             [
              0.6666666666666666,
              "#ed7953"
             ],
             [
              0.7777777777777778,
              "#fb9f3a"
             ],
             [
              0.8888888888888888,
              "#fdca26"
             ],
             [
              1,
              "#f0f921"
             ]
            ],
            "type": "heatmapgl"
           }
          ],
          "histogram": [
           {
            "marker": {
             "pattern": {
              "fillmode": "overlay",
              "size": 10,
              "solidity": 0.2
             }
            },
            "type": "histogram"
           }
          ],
          "histogram2d": [
           {
            "colorbar": {
             "outlinewidth": 0,
             "ticks": ""
            },
            "colorscale": [
             [
              0,
              "#0d0887"
             ],
             [
              0.1111111111111111,
              "#46039f"
             ],
             [
              0.2222222222222222,
              "#7201a8"
             ],
             [
              0.3333333333333333,
              "#9c179e"
             ],
             [
              0.4444444444444444,
              "#bd3786"
             ],
             [
              0.5555555555555556,
              "#d8576b"
             ],
             [
              0.6666666666666666,
              "#ed7953"
             ],
             [
              0.7777777777777778,
              "#fb9f3a"
             ],
             [
              0.8888888888888888,
              "#fdca26"
             ],
             [
              1,
              "#f0f921"
             ]
            ],
            "type": "histogram2d"
           }
          ],
          "histogram2dcontour": [
           {
            "colorbar": {
             "outlinewidth": 0,
             "ticks": ""
            },
            "colorscale": [
             [
              0,
              "#0d0887"
             ],
             [
              0.1111111111111111,
              "#46039f"
             ],
             [
              0.2222222222222222,
              "#7201a8"
             ],
             [
              0.3333333333333333,
              "#9c179e"
             ],
             [
              0.4444444444444444,
              "#bd3786"
             ],
             [
              0.5555555555555556,
              "#d8576b"
             ],
             [
              0.6666666666666666,
              "#ed7953"
             ],
             [
              0.7777777777777778,
              "#fb9f3a"
             ],
             [
              0.8888888888888888,
              "#fdca26"
             ],
             [
              1,
              "#f0f921"
             ]
            ],
            "type": "histogram2dcontour"
           }
          ],
          "mesh3d": [
           {
            "colorbar": {
             "outlinewidth": 0,
             "ticks": ""
            },
            "type": "mesh3d"
           }
          ],
          "parcoords": [
           {
            "line": {
             "colorbar": {
              "outlinewidth": 0,
              "ticks": ""
             }
            },
            "type": "parcoords"
           }
          ],
          "pie": [
           {
            "automargin": true,
            "type": "pie"
           }
          ],
          "scatter": [
           {
            "fillpattern": {
             "fillmode": "overlay",
             "size": 10,
             "solidity": 0.2
            },
            "type": "scatter"
           }
          ],
          "scatter3d": [
           {
            "line": {
             "colorbar": {
              "outlinewidth": 0,
              "ticks": ""
             }
            },
            "marker": {
             "colorbar": {
              "outlinewidth": 0,
              "ticks": ""
             }
            },
            "type": "scatter3d"
           }
          ],
          "scattercarpet": [
           {
            "marker": {
             "colorbar": {
              "outlinewidth": 0,
              "ticks": ""
             }
            },
            "type": "scattercarpet"
           }
          ],
          "scattergeo": [
           {
            "marker": {
             "colorbar": {
              "outlinewidth": 0,
              "ticks": ""
             }
            },
            "type": "scattergeo"
           }
          ],
          "scattergl": [
           {
            "marker": {
             "colorbar": {
              "outlinewidth": 0,
              "ticks": ""
             }
            },
            "type": "scattergl"
           }
          ],
          "scattermapbox": [
           {
            "marker": {
             "colorbar": {
              "outlinewidth": 0,
              "ticks": ""
             }
            },
            "type": "scattermapbox"
           }
          ],
          "scatterpolar": [
           {
            "marker": {
             "colorbar": {
              "outlinewidth": 0,
              "ticks": ""
             }
            },
            "type": "scatterpolar"
           }
          ],
          "scatterpolargl": [
           {
            "marker": {
             "colorbar": {
              "outlinewidth": 0,
              "ticks": ""
             }
            },
            "type": "scatterpolargl"
           }
          ],
          "scatterternary": [
           {
            "marker": {
             "colorbar": {
              "outlinewidth": 0,
              "ticks": ""
             }
            },
            "type": "scatterternary"
           }
          ],
          "surface": [
           {
            "colorbar": {
             "outlinewidth": 0,
             "ticks": ""
            },
            "colorscale": [
             [
              0,
              "#0d0887"
             ],
             [
              0.1111111111111111,
              "#46039f"
             ],
             [
              0.2222222222222222,
              "#7201a8"
             ],
             [
              0.3333333333333333,
              "#9c179e"
             ],
             [
              0.4444444444444444,
              "#bd3786"
             ],
             [
              0.5555555555555556,
              "#d8576b"
             ],
             [
              0.6666666666666666,
              "#ed7953"
             ],
             [
              0.7777777777777778,
              "#fb9f3a"
             ],
             [
              0.8888888888888888,
              "#fdca26"
             ],
             [
              1,
              "#f0f921"
             ]
            ],
            "type": "surface"
           }
          ],
          "table": [
           {
            "cells": {
             "fill": {
              "color": "#EBF0F8"
             },
             "line": {
              "color": "white"
             }
            },
            "header": {
             "fill": {
              "color": "#C8D4E3"
             },
             "line": {
              "color": "white"
             }
            },
            "type": "table"
           }
          ]
         },
         "layout": {
          "annotationdefaults": {
           "arrowcolor": "#2a3f5f",
           "arrowhead": 0,
           "arrowwidth": 1
          },
          "autotypenumbers": "strict",
          "coloraxis": {
           "colorbar": {
            "outlinewidth": 0,
            "ticks": ""
           }
          },
          "colorscale": {
           "diverging": [
            [
             0,
             "#8e0152"
            ],
            [
             0.1,
             "#c51b7d"
            ],
            [
             0.2,
             "#de77ae"
            ],
            [
             0.3,
             "#f1b6da"
            ],
            [
             0.4,
             "#fde0ef"
            ],
            [
             0.5,
             "#f7f7f7"
            ],
            [
             0.6,
             "#e6f5d0"
            ],
            [
             0.7,
             "#b8e186"
            ],
            [
             0.8,
             "#7fbc41"
            ],
            [
             0.9,
             "#4d9221"
            ],
            [
             1,
             "#276419"
            ]
           ],
           "sequential": [
            [
             0,
             "#0d0887"
            ],
            [
             0.1111111111111111,
             "#46039f"
            ],
            [
             0.2222222222222222,
             "#7201a8"
            ],
            [
             0.3333333333333333,
             "#9c179e"
            ],
            [
             0.4444444444444444,
             "#bd3786"
            ],
            [
             0.5555555555555556,
             "#d8576b"
            ],
            [
             0.6666666666666666,
             "#ed7953"
            ],
            [
             0.7777777777777778,
             "#fb9f3a"
            ],
            [
             0.8888888888888888,
             "#fdca26"
            ],
            [
             1,
             "#f0f921"
            ]
           ],
           "sequentialminus": [
            [
             0,
             "#0d0887"
            ],
            [
             0.1111111111111111,
             "#46039f"
            ],
            [
             0.2222222222222222,
             "#7201a8"
            ],
            [
             0.3333333333333333,
             "#9c179e"
            ],
            [
             0.4444444444444444,
             "#bd3786"
            ],
            [
             0.5555555555555556,
             "#d8576b"
            ],
            [
             0.6666666666666666,
             "#ed7953"
            ],
            [
             0.7777777777777778,
             "#fb9f3a"
            ],
            [
             0.8888888888888888,
             "#fdca26"
            ],
            [
             1,
             "#f0f921"
            ]
           ]
          },
          "colorway": [
           "#636efa",
           "#EF553B",
           "#00cc96",
           "#ab63fa",
           "#FFA15A",
           "#19d3f3",
           "#FF6692",
           "#B6E880",
           "#FF97FF",
           "#FECB52"
          ],
          "font": {
           "color": "#2a3f5f"
          },
          "geo": {
           "bgcolor": "white",
           "lakecolor": "white",
           "landcolor": "#E5ECF6",
           "showlakes": true,
           "showland": true,
           "subunitcolor": "white"
          },
          "hoverlabel": {
           "align": "left"
          },
          "hovermode": "closest",
          "mapbox": {
           "style": "light"
          },
          "paper_bgcolor": "white",
          "plot_bgcolor": "#E5ECF6",
          "polar": {
           "angularaxis": {
            "gridcolor": "white",
            "linecolor": "white",
            "ticks": ""
           },
           "bgcolor": "#E5ECF6",
           "radialaxis": {
            "gridcolor": "white",
            "linecolor": "white",
            "ticks": ""
           }
          },
          "scene": {
           "xaxis": {
            "backgroundcolor": "#E5ECF6",
            "gridcolor": "white",
            "gridwidth": 2,
            "linecolor": "white",
            "showbackground": true,
            "ticks": "",
            "zerolinecolor": "white"
           },
           "yaxis": {
            "backgroundcolor": "#E5ECF6",
            "gridcolor": "white",
            "gridwidth": 2,
            "linecolor": "white",
            "showbackground": true,
            "ticks": "",
            "zerolinecolor": "white"
           },
           "zaxis": {
            "backgroundcolor": "#E5ECF6",
            "gridcolor": "white",
            "gridwidth": 2,
            "linecolor": "white",
            "showbackground": true,
            "ticks": "",
            "zerolinecolor": "white"
           }
          },
          "shapedefaults": {
           "line": {
            "color": "#2a3f5f"
           }
          },
          "ternary": {
           "aaxis": {
            "gridcolor": "white",
            "linecolor": "white",
            "ticks": ""
           },
           "baxis": {
            "gridcolor": "white",
            "linecolor": "white",
            "ticks": ""
           },
           "bgcolor": "#E5ECF6",
           "caxis": {
            "gridcolor": "white",
            "linecolor": "white",
            "ticks": ""
           }
          },
          "title": {
           "x": 0.05
          },
          "xaxis": {
           "automargin": true,
           "gridcolor": "white",
           "linecolor": "white",
           "ticks": "",
           "title": {
            "standoff": 15
           },
           "zerolinecolor": "white",
           "zerolinewidth": 2
          },
          "yaxis": {
           "automargin": true,
           "gridcolor": "white",
           "linecolor": "white",
           "ticks": "",
           "title": {
            "standoff": 15
           },
           "zerolinecolor": "white",
           "zerolinewidth": 2
          }
         }
        },
        "title": {
         "text": "Number of cases by race"
        }
       }
      }
     },
     "metadata": {},
     "output_type": "display_data"
    }
   ],
   "source": []
  },
  {
   "cell_type": "code",
   "execution_count": 80,
   "metadata": {},
   "outputs": [],
   "source": [
    "analysis_data = df_f.copy()"
   ]
  },
  {
   "cell_type": "code",
   "execution_count": 81,
   "metadata": {},
   "outputs": [],
   "source": [
    "analysis_data.to_csv(\"analysis_data.csv\")"
   ]
  },
  {
   "cell_type": "code",
   "execution_count": null,
   "metadata": {},
   "outputs": [],
   "source": []
  }
 ],
 "metadata": {
  "kernelspec": {
   "display_name": "Python 3",
   "language": "python",
   "name": "python3"
  },
  "language_info": {
   "codemirror_mode": {
    "name": "ipython",
    "version": 3
   },
   "file_extension": ".py",
   "mimetype": "text/x-python",
   "name": "python",
   "nbconvert_exporter": "python",
   "pygments_lexer": "ipython3",
   "version": "3.11.0"
  }
 },
 "nbformat": 4,
 "nbformat_minor": 2
}
